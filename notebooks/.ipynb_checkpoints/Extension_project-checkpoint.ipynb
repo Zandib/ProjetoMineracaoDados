{
 "cells": [
  {
   "cell_type": "markdown",
   "metadata": {},
   "source": [
    "### SCRIPT"
   ]
  },
  {
   "cell_type": "code",
   "execution_count": 1,
   "metadata": {},
   "outputs": [
    {
     "name": "stderr",
     "output_type": "stream",
     "text": [
      "/home/ufabc/anaconda3/lib/python3.6/site-packages/sklearn/externals/joblib/__init__.py:15: DeprecationWarning: sklearn.externals.joblib is deprecated in 0.21 and will be removed in 0.23. Please import this functionality directly from joblib, which can be installed with: pip install joblib. If this warning is raised when loading pickled models, you may need to re-serialize those models with scikit-learn 0.21+.\n",
      "  warnings.warn(msg, category=DeprecationWarning)\n"
     ]
    }
   ],
   "source": [
    "# -*- coding: utf-8 -*-\n",
    "\"\"\"\n",
    "@author: dib_n\n",
    "\"\"\"\n",
    "#################################################################\n",
    "#Imports\n",
    "#################################################################\n",
    "import pandas as pd\n",
    "import numpy as np\n",
    "\n",
    "# Preprocessing\n",
    "from sklearn.preprocessing import LabelEncoder, StandardScaler\n",
    "from sklearn.model_selection import StratifiedKFold\n",
    "\n",
    "#Learning\n",
    "from sklearn import svm\n",
    "from sklearn.model_selection import cross_val_score\n",
    "\n",
    "#SearchGrid\n",
    "from sklearn.model_selection import GridSearchCV\n",
    "\n",
    "#Saving \n",
    "from sklearn.externals import joblib "
   ]
  },
  {
   "cell_type": "code",
   "execution_count": 2,
   "metadata": {
    "scrolled": false
   },
   "outputs": [
    {
     "name": "stderr",
     "output_type": "stream",
     "text": [
      "/home/ufabc/anaconda3/lib/python3.6/site-packages/tqdm/autonotebook.py:17: TqdmExperimentalWarning: Using `tqdm.autonotebook.tqdm` in notebook mode. Use `tqdm.tqdm` instead to force console mode (e.g. in jupyter console)\n",
      "  \" (e.g. in jupyter console)\", TqdmExperimentalWarning)\n"
     ]
    },
    {
     "name": "stdout",
     "output_type": "stream",
     "text": [
      "Creating training files...\n",
      "Extract training features...\n",
      "class a extracted\n",
      "class b extracted\n",
      "class c extracted\n",
      "class d extracted\n",
      "class h extracted\n",
      "class m extracted\n",
      "class n extracted\n",
      "class x extracted\n",
      "class 6 extracted\n",
      "class 7 extracted\n",
      "Creating validation files...\n",
      "Extracting validation features\n",
      "class a extracted\n",
      "class b extracted\n",
      "class c extracted\n",
      "class d extracted\n",
      "class h extracted\n",
      "class m extracted\n",
      "class n extracted\n",
      "class x extracted\n",
      "class 6 extracted\n",
      "class 7 extracted\n",
      "Training set saved at data.csv\n",
      "Validation set save at data_validacao.csv\n",
      "Tuning RBF Kernel parameters\n",
      "Search grid for RBF returned parameters:\n",
      "{'C': 97.5, 'gamma': 0.01}\n",
      "Accuracy score of RBF Kernel: 0.6872659176029963\n"
     ]
    },
    {
     "data": {
      "text/plain": [
       "['../models/svcrbf.pkl']"
      ]
     },
     "execution_count": 2,
     "metadata": {},
     "output_type": "execute_result"
    }
   ],
   "source": [
    "# -*- coding: utf-8 -*-\n",
    "\"\"\"\n",
    "@author: dib_n\n",
    "\"\"\"\n",
    "#################################################################\n",
    "#Imports\n",
    "#################################################################\n",
    "import pandas as pd\n",
    "import numpy as np\n",
    "\n",
    "# Preprocessing\n",
    "from sklearn.preprocessing import LabelEncoder, StandardScaler\n",
    "from sklearn.model_selection import StratifiedKFold\n",
    "\n",
    "#Learning\n",
    "from sklearn import svm\n",
    "from sklearn.model_selection import cross_val_score\n",
    "\n",
    "#SearchGrid\n",
    "from sklearn.model_selection import GridSearchCV\n",
    "\n",
    "#Saving \n",
    "from sklearn.externals import joblib \n",
    "\n",
    "#################################################################\n",
    "#Prep train/validation set from external file\n",
    "#################################################################\n",
    "exec(open('../scripts/dataprep_treino_validacao.py').read())\n",
    "#################################################################\n",
    "#Loads\n",
    "#################################################################\n",
    "#Importando base de treino\n",
    "df_train = pd.read_csv('../data/data.csv',index_col=False)\n",
    "df_valid = pd.read_csv('../data/data_validacao.csv',index_col=False)\n",
    "# Dropping unneccesary columns\n",
    "df_train = df_train.drop(['filename'],axis=1)\n",
    "df_valid = df_valid.drop('filename',axis=1)\n",
    "#################################################################\n",
    "#Encoding\n",
    "#################################################################\n",
    "class_list = df_train.iloc[:, -1]\n",
    "encoder = LabelEncoder()\n",
    "encoder.fit(class_list)\n",
    "y_train = encoder.transform(class_list)\n",
    "y_valid = encoder.transform(df_valid.iloc[:,-1])\n",
    "joblib.dump(encoder,'../models/encoder.pkl')\n",
    "#################################################################\n",
    "#Scailing\n",
    "#################################################################\n",
    "scaler = StandardScaler()\n",
    "df = df_train.append(df_valid,ignore_index=True)\n",
    "scaler.fit(np.array(df.iloc[:, :-1], dtype = float))\n",
    "X_train = scaler.transform(np.array(df_train.iloc[:, :-1], dtype = float))\n",
    "X_valid = scaler.transform(np.array(df_valid.iloc[:, :-1], dtype = float))\n",
    "joblib.dump(scaler,'../models/scaler.pkl')\n",
    "#################################################################\n",
    "#Training svm with two different kernels\n",
    "#################################################################\n",
    "#Linear\n",
    "#SVClassifier = svm.SVC(kernel='linear')\n",
    "#SVClassifier.fit(X_train,y_train)\n",
    "#print('Accuracy of linear SVM:',SVClassifier.score(X_valid,y_valid))\n",
    "#joblib.dump(SVClassifier,'../models/svclinear.pkl')\n",
    "#################################################################\n",
    "#Divisor\n",
    "divisor = StratifiedKFold(n_splits = 5, random_state = 1)\n",
    "#Rbf\n",
    "##Param grid\n",
    "Cs = np.arange(0.5,100,0.5)\n",
    "gammas = [0.001, 0.01, 0.1, 1]\n",
    "param_grid = {'C':Cs,'gamma':gammas}\n",
    "#Grid Search\n",
    "print('Tuning RBF Kernel parameters')\n",
    "grid_search = GridSearchCV(svm.SVC(kernel='rbf'),param_grid,cv=divisor)\n",
    "grid_search.fit(X_train,y_train)\n",
    "print('Search grid for RBF returned parameters:')\n",
    "print(grid_search.best_params_)\n",
    "#Get model  \n",
    "SVCrbf = grid_search.best_estimator_\n",
    "print('Accuracy score of RBF Kernel:',SVCrbf.score(X_valid,y_valid))\n",
    "joblib.dump(SVCrbf, '../models/svcrbf.pkl') "
   ]
  },
  {
   "cell_type": "code",
   "execution_count": 4,
   "metadata": {
    "collapsed": true
   },
   "outputs": [],
   "source": [
    "#Importando base de treino\n",
    "df_train = pd.read_csv('../data/data.csv',index_col=False)\n",
    "df_valid = pd.read_csv('../data/data_validacao.csv',index_col=False)\n",
    "# Dropping unneccesary columns\n",
    "df_train = df_train.drop(['filename'],axis=1)\n",
    "df_valid = df_valid.drop('filename',axis=1)\n",
    "#################################################################\n",
    "#Encoding\n",
    "#################################################################\n",
    "class_list = df_train.iloc[:, -1]\n",
    "encoder = LabelEncoder()\n",
    "encoder.fit(class_list)\n",
    "y_train = encoder.transform(class_list)\n",
    "y_valid = encoder.transform(df_valid.iloc[:,-1])\n",
    "joblib.dump(encoder,'../models/encoder.pkl')\n",
    "#################################################################\n",
    "#Scailing\n",
    "#################################################################\n",
    "scaler = StandardScaler()\n",
    "df = df_train.append(df_valid,ignore_index=True)\n",
    "scaler.fit(np.array(df.iloc[:, :-1], dtype = float))\n",
    "X_train = scaler.transform(np.array(df_train.iloc[:, :-1], dtype = float))\n",
    "X_valid = scaler.transform(np.array(df_valid.iloc[:, :-1], dtype = float))\n",
    "joblib.dump(scaler,'../models/scaler.pkl')\n",
    "#################################################################\n",
    "#Training svm with two different kernels\n",
    "#################################################################\n",
    "#Linear\n",
    "#SVClassifier = svm.SVC(kernel='linear')\n",
    "#SVClassifier.fit(X_train,y_train)\n",
    "#print('Accuracy of linear SVM:',SVClassifier.score(X_valid,y_valid))\n",
    "#joblib.dump(SVClassifier,'../models/svclinear.pkl')\n",
    "#################################################################\n",
    "#Divisor\n",
    "divisor = StratifiedKFold(n_splits = 5, random_state = 1)"
   ]
  },
  {
   "cell_type": "code",
   "execution_count": 5,
   "metadata": {},
   "outputs": [
    {
     "name": "stderr",
     "output_type": "stream",
     "text": [
      "/home/ufabc/anaconda3/lib/python3.6/site-packages/sklearn/base.py:306: UserWarning: Trying to unpickle estimator SVC from version 0.20.1 when using version 0.21.2. This might lead to breaking code or invalid results. Use at your own risk.\n",
      "  UserWarning)\n"
     ]
    }
   ],
   "source": [
    "X = np.concatenate((X_train,X_valid))\n",
    "y = np.concatenate((y_train,y_valid))\n",
    "\n",
    "SVCrbf = joblib.load('../models/svcrbf.pkl')"
   ]
  },
  {
   "cell_type": "code",
   "execution_count": 15,
   "metadata": {},
   "outputs": [],
   "source": [
    "predictions=SVCrbf.predict(X_valid)"
   ]
  },
  {
   "cell_type": "code",
   "execution_count": 16,
   "metadata": {},
   "outputs": [
    {
     "data": {
      "text/plain": [
       "array(['6', '7', 'a', 'b', 'c', 'd', 'h', 'm', 'n', 'x'], dtype='<U1')"
      ]
     },
     "execution_count": 16,
     "metadata": {},
     "output_type": "execute_result"
    }
   ],
   "source": [
    "encoder.classes_.astype(str)"
   ]
  },
  {
   "cell_type": "code",
   "execution_count": 20,
   "metadata": {},
   "outputs": [
    {
     "data": {
      "text/plain": [
       "array([2, 2, 2, ..., 1, 1, 1])"
      ]
     },
     "execution_count": 20,
     "metadata": {},
     "output_type": "execute_result"
    }
   ],
   "source": [
    "predictions"
   ]
  },
  {
   "cell_type": "code",
   "execution_count": 17,
   "metadata": {},
   "outputs": [
    {
     "name": "stdout",
     "output_type": "stream",
     "text": [
      "              precision    recall  f1-score   support\n",
      "\n",
      "           6       0.92      0.96      0.94       122\n",
      "           7       0.51      0.52      0.52       104\n",
      "           a       0.00      0.00      0.00         0\n",
      "           b       0.00      0.00      0.00         0\n",
      "           c       0.00      0.00      0.00         0\n",
      "           d       0.00      0.00      0.00         0\n",
      "           h       0.00      0.00      0.00         0\n",
      "           m       0.00      0.00      0.00         0\n",
      "           n       0.00      0.00      0.00         0\n",
      "           x       0.00      0.00      0.00         0\n",
      "\n",
      "   micro avg       0.74      0.76      0.75       226\n",
      "   macro avg       0.14      0.15      0.15       226\n",
      "weighted avg       0.73      0.76      0.75       226\n",
      "\n"
     ]
    },
    {
     "name": "stderr",
     "output_type": "stream",
     "text": [
      "/home/ufabc/anaconda3/lib/python3.6/site-packages/numpy/lib/arraysetops.py:564: FutureWarning: elementwise comparison failed; returning scalar instead, but in the future will perform elementwise comparison\n",
      "  mask &= (ar1 != a)\n",
      "/home/ufabc/anaconda3/lib/python3.6/site-packages/sklearn/metrics/classification.py:1437: UndefinedMetricWarning: Precision and F-score are ill-defined and being set to 0.0 in labels with no predicted samples.\n",
      "  'precision', 'predicted', average, warn_for)\n",
      "/home/ufabc/anaconda3/lib/python3.6/site-packages/sklearn/metrics/classification.py:1439: UndefinedMetricWarning: Recall and F-score are ill-defined and being set to 0.0 in labels with no true samples.\n",
      "  'recall', 'true', average, warn_for)\n"
     ]
    }
   ],
   "source": [
    "print(classification_report(y_valid,predictions,labels=encoder.classes_.astype(str)))"
   ]
  },
  {
   "cell_type": "code",
   "execution_count": 28,
   "metadata": {},
   "outputs": [
    {
     "name": "stdout",
     "output_type": "stream",
     "text": [
      "Re-training with validation data\n",
      "Score for validation + training set: 0.9530497592295345\n"
     ]
    }
   ],
   "source": [
    "##################################################################\n",
    "#Re-treino com validação\n",
    "##################################################################\n",
    "print('Re-training with validation data')\n",
    "SVCrbf.fit(X,y)\n",
    "#Scoring\n",
    "scores = cross_val_score(SVCrbf, X, y, cv = 3)\n",
    "print('Training + Validation score(cross-val)',scores.mean())"
   ]
  },
  {
   "cell_type": "code",
   "execution_count": 12,
   "metadata": {},
   "outputs": [],
   "source": [
    "from sklearn.metrics import multilabel_confusion_matrix, classification_report"
   ]
  },
  {
   "cell_type": "code",
   "execution_count": null,
   "metadata": {
    "collapsed": true
   },
   "outputs": [],
   "source": []
  }
 ],
 "metadata": {
  "kernelspec": {
   "display_name": "Python 3",
   "language": "python",
   "name": "python3"
  },
  "language_info": {
   "codemirror_mode": {
    "name": "ipython",
    "version": 3
   },
   "file_extension": ".py",
   "mimetype": "text/x-python",
   "name": "python",
   "nbconvert_exporter": "python",
   "pygments_lexer": "ipython3",
   "version": "3.6.9"
  }
 },
 "nbformat": 4,
 "nbformat_minor": 2
}
