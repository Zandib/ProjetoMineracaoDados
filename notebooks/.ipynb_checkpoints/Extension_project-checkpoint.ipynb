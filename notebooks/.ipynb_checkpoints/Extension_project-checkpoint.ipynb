{
 "cells": [
  {
   "cell_type": "markdown",
   "metadata": {},
   "source": [
    "### SCRIPT DE TREINO"
   ]
  },
  {
   "cell_type": "code",
   "execution_count": null,
   "metadata": {},
   "outputs": [],
   "source": [
    "from sklearn.metrics import recall_score\n",
    "from sklearn.metrics import precision_score"
   ]
  },
  {
   "cell_type": "code",
   "execution_count": 1,
   "metadata": {
    "scrolled": false
   },
   "outputs": [
    {
     "name": "stderr",
     "output_type": "stream",
     "text": [
      "C:\\ProgramData\\Anaconda3\\lib\\site-packages\\sklearn\\externals\\joblib\\__init__.py:15: DeprecationWarning: sklearn.externals.joblib is deprecated in 0.21 and will be removed in 0.23. Please import this functionality directly from joblib, which can be installed with: pip install joblib. If this warning is raised when loading pickled models, you may need to re-serialize those models with scikit-learn 0.21+.\n",
      "  warnings.warn(msg, category=DeprecationWarning)\n",
      "C:\\ProgramData\\Anaconda3\\lib\\site-packages\\tqdm\\autonotebook.py:17: TqdmExperimentalWarning: Using `tqdm.autonotebook.tqdm` in notebook mode. Use `tqdm.tqdm` instead to force console mode (e.g. in jupyter console)\n",
      "  \" (e.g. in jupyter console)\", TqdmExperimentalWarning)\n"
     ]
    },
    {
     "name": "stdout",
     "output_type": "stream",
     "text": [
      "Creating training files...\n",
      "Extract training features...\n",
      "class a extracted\n",
      "class b extracted\n",
      "class c extracted\n",
      "class d extracted\n",
      "class h extracted\n",
      "class m extracted\n",
      "class n extracted\n",
      "class x extracted\n",
      "class 6 extracted\n",
      "class 7 extracted\n",
      "Creating validation files...\n",
      "Extracting validation features\n",
      "class a extracted\n",
      "class b extracted\n",
      "class c extracted\n",
      "class d extracted\n",
      "class h extracted\n",
      "class m extracted\n",
      "class n extracted\n",
      "class x extracted\n",
      "class 6 extracted\n",
      "class 7 extracted\n",
      "Training set saved at data.csv\n",
      "Validation set save at data_validacao.csv\n",
      "Accuracy of linear SVM: 0.653558052434457\n",
      "Tuning RBF Kernel parameters\n",
      "Search grid for RBF returned parameters:\n",
      "{'C': 3.0, 'gamma': 0.1}\n",
      "Params:\n",
      "{'C': 3.0, 'cache_size': 200, 'class_weight': None, 'coef0': 0.0, 'decision_function_shape': 'ovr', 'degree': 3, 'gamma': 0.1, 'kernel': 'rbf', 'max_iter': -1, 'probability': False, 'random_state': None, 'shrinking': True, 'tol': 0.001, 'verbose': False}\n",
      "Accuracy score of RBF Kernel: 0.7303370786516854\n"
     ]
    },
    {
     "data": {
      "text/plain": [
       "['../models/svcrbf.pkl']"
      ]
     },
     "execution_count": 1,
     "metadata": {},
     "output_type": "execute_result"
    }
   ],
   "source": [
    "# -*- coding: utf-8 -*-\n",
    "\"\"\"\n",
    "@author: dib_n\n",
    "\"\"\"\n",
    "#################################################################\n",
    "#Imports\n",
    "#################################################################\n",
    "import pandas as pd\n",
    "import numpy as np\n",
    "\n",
    "# Preprocessing\n",
    "from sklearn.preprocessing import LabelEncoder, StandardScaler\n",
    "\n",
    "#Learning\n",
    "from sklearn import svm\n",
    "from sklearn.ensemble import RandomForestClassifier\n",
    "\n",
    "#SearchGrid\n",
    "from sklearn.model_selection import GridSearchCV\n",
    "from sklearn.model_selection import RandomizedSearchCV\n",
    "\n",
    "#Metrics\n",
    "from sklearn.metrics import roc_auc_score\n",
    "from sklearn.metrics import recall_score\n",
    "from sklearn.metrics import precision_score\n",
    "\n",
    "#Split\n",
    "from sklearn.model_selection import train_test_split\n",
    "\n",
    "#Resample\n",
    "from sklearn.utils import resample\n",
    "\n",
    "#Saving \n",
    "from sklearn.externals import joblib \n",
    "\n",
    "#################################################################\n",
    "#Prep train/validation set from external file\n",
    "#################################################################\n",
    "exec(open('../scripts/dataprep_treino_validacao.py').read())\n",
    "#################################################################\n",
    "#Loads\n",
    "#################################################################\n",
    "#Importando base de treino\n",
    "df_train = pd.read_csv('../data/data.csv',index_col=False)\n",
    "df_valid = pd.read_csv('../data/data_validacao.csv',index_col=False)\n",
    "# Dropping unneccesary columns\n",
    "df_train = df_train.drop(['filename'],axis=1)\n",
    "df_valid = df_valid.drop('filename',axis=1)\n",
    "#################################################################\n",
    "#Encoding\n",
    "#################################################################\n",
    "class_list = df_train.iloc[:, -1]\n",
    "encoder = LabelEncoder()\n",
    "encoder.fit(class_list)\n",
    "y_train = encoder.transform(class_list)\n",
    "y_valid = encoder.transform(df_valid.iloc[:,-1])\n",
    "joblib.dump(encoder,'../models/encoder.pkl')\n",
    "#################################################################\n",
    "#Scailing\n",
    "#################################################################\n",
    "scaler = StandardScaler()\n",
    "df = df_train.append(df_valid,ignore_index=True)\n",
    "scaler.fit(np.array(df.iloc[:, :-1], dtype = float))\n",
    "X_train = scaler.transform(np.array(df_train.iloc[:, :-1], dtype = float))\n",
    "X_valid = scaler.transform(np.array(df_valid.iloc[:, :-1], dtype = float))\n",
    "joblib.dump(scaler,'../models/scaler.pkl')\n",
    "#################################################################\n",
    "#Training svm with two different kernels\n",
    "#################################################################\n",
    "#Linear\n",
    "SVClassifier = svm.SVC(kernel='linear')\n",
    "SVClassifier.fit(X_train,y_train)\n",
    "print('Accuracy of linear SVM:',SVClassifier.score(X_valid,y_valid))\n",
    "joblib.dump(SVClassifier,'../models/svclinear.pkl')\n",
    "#Rbf\n",
    "##################################################################\n",
    "#Param grid\n",
    "Cs = np.arange(0.5,100,0.5)\n",
    "gammas = [0.001, 0.01, 0.1, 1]\n",
    "\n",
    "param_grid = {'C':Cs,'gamma':gammas}\n",
    "#################################################################\n",
    "#Grid Search\n",
    "print('Tuning RBF Kernel parameters')\n",
    "grid_search = GridSearchCV(svm.SVC(kernel='rbf'),param_grid)\n",
    "grid_search.fit(X_train,y_train)\n",
    "print('Search grid for RBF returned parameters:')\n",
    "print(grid_search.best_params_)\n",
    "#Get model  \n",
    "SVCrbf = grid_search.best_estimator_\n",
    "print('Params:')\n",
    "print(SVCrbf.get_params())\n",
    "#SVCrbf.fit(X_train,y_train)\n",
    "print('Accuracy score of RBF Kernel:',SVCrbf.score(X_valid,y_valid))\n",
    "joblib.dump(SVCrbf, '../models/svcrbf.pkl') \n",
    "##################################################################\n",
    "#Re-treino com validação\n",
    "##################################################################\n",
    "#print('Re-training with validation data')\n",
    "#X = np.concatenate((X_train,X_valid))\n",
    "#y = np.concatenate((y_train,y_valid))\n",
    "\n",
    "#SVCrbf = joblib.load('../models/svcrbf.pkl')\n",
    "#SVCrbf.fit(X,y)\n",
    "#Scoring\n",
    "#scores = cross_val_score(SVCrbf, X, y, cv = 3)\n",
    "#print('Training + Validation score(cross-val)',scores.mean())"
   ]
  },
  {
   "cell_type": "code",
   "execution_count": 2,
   "metadata": {},
   "outputs": [],
   "source": [
    "#Importando base de treino\n",
    "df_train = pd.read_csv('../data/data.csv',index_col=False)\n",
    "df_valid = pd.read_csv('../data/data_validacao.csv',index_col=False)\n",
    "# Dropping unneccesary columns\n",
    "df_train = df_train.drop(['filename'],axis=1)\n",
    "df_valid = df_valid.drop('filename',axis=1)\n",
    "#################################################################\n",
    "#Encoding\n",
    "#################################################################\n",
    "encoder = joblib.load('../models/encoder.pkl')\n",
    "y_train = df_train.iloc[:,-1]\n",
    "y_train = encoder.transform(y_train)\n",
    "y_valid = df_valid.iloc[:,-1]\n",
    "y_valid = encoder.transform(y_valid)\n",
    "#################################################################\n",
    "#Scailing\n",
    "#################################################################\n",
    "scaler = joblib.load('../models/scaler.pkl')\n",
    "df = df_train.append(df_valid,ignore_index=True)\n",
    "#scaler.fit(np.array(df.iloc[:, :-1], dtype = float))\n",
    "X_train = scaler.transform(np.array(df_train.iloc[:, :-1], dtype = float))\n",
    "X_valid = scaler.transform(np.array(df_valid.iloc[:, :-1], dtype = float))"
   ]
  },
  {
   "cell_type": "code",
   "execution_count": 3,
   "metadata": {},
   "outputs": [
    {
     "name": "stdout",
     "output_type": "stream",
     "text": [
      "Implementing OneVsAll\n"
     ]
    }
   ],
   "source": [
    "##################################################################\n",
    "##################################################################\n",
    "##################################################################\n",
    "#Paradigma One vs All\n",
    "##################################\n",
    "print('Implementing OneVsAll')\n",
    "#Separando uma coluna para cada target\n",
    "for target in df['label'].unique():\n",
    "    df[target] = (df['label']==target).astype(int)\n",
    "    df_train[target] = (df_train['label']==target).astype(int)\n",
    "    df_valid[target] = (df_valid['label']==target).astype(int)\n",
    "#Treinando um modelo para cada classe\n",
    "models={}\n",
    "    \n",
    "models['geral'] = joblib.load('../models/SVCrbf.pkl')"
   ]
  },
  {
   "cell_type": "code",
   "execution_count": null,
   "metadata": {},
   "outputs": [
    {
     "name": "stdout",
     "output_type": "stream",
     "text": [
      "**********************************************************************\n",
      "Acuracia para a classe a: 0.9822097378277154\n",
      "Roc AUC score para a classe a: 0.9206206801363246\n",
      "Precision: 0.9534883720930233\n",
      "Recall: 0.845360824742268\n",
      "**********************************************************************\n",
      "Acuracia para a classe b: 0.9101123595505618\n",
      "Roc AUC score para a classe b: 0.7654258031616523\n",
      "Precision: 0.543859649122807\n",
      "Recall: 0.5849056603773585\n",
      "**********************************************************************\n",
      "Acuracia para a classe c: 0.9588014981273408\n",
      "Roc AUC score para a classe c: 0.8234607641961741\n",
      "Precision: 0.9090909090909091\n",
      "Recall: 0.6542056074766355\n",
      "**********************************************************************\n",
      "Acuracia para a classe d: 0.9044943820224719\n",
      "Roc AUC score para a classe d: 0.6812108559498956\n",
      "Precision: 0.55\n",
      "Recall: 0.4\n",
      "**********************************************************************\n",
      "Acuracia para a classe h: 0.9850187265917603\n",
      "Roc AUC score para a classe h: 0.9451356877967629\n",
      "Precision: 0.9732142857142857\n",
      "Recall: 0.8934426229508197\n",
      "**********************************************************************\n",
      "Acuracia para a classe m: 0.9101123595505618\n",
      "Roc AUC score para a classe m: 0.6971552824768593\n",
      "Precision: 0.5487804878048781\n",
      "Recall: 0.4326923076923077\n",
      "**********************************************************************\n",
      "Acuracia para a classe n: 0.9232209737827716\n",
      "Roc AUC score para a classe n: 0.7190937311773156\n",
      "Precision: 0.7123287671232876\n",
      "Recall: 0.46017699115044247\n"
     ]
    }
   ],
   "source": [
    "for target in df['label'].unique():\n",
    "    \n",
    "    train_temp = pd.DataFrame(X_train)\n",
    "    train_temp[str(target)]=df[target].copy()\n",
    "    \n",
    "    train_temp_nao_target = train_temp.loc[train_temp[target]==0]\n",
    "    train_temp_target = train_temp.loc[train_temp[target]==1]\n",
    "    \n",
    "    train_temp_upsampled = resample(train_temp_target,\n",
    "                          replace=True, # sample with replacement\n",
    "                          n_samples=len(train_temp_nao_target), # match number in majority class\n",
    "                          random_state=27) # reproducible results\n",
    "    \n",
    "    # combine majority and upsampled minority\n",
    "    train_temp = pd.concat([train_temp_nao_target, train_temp_upsampled])\n",
    "    \n",
    "    X_train = train_temp.iloc[:,:-1]\n",
    "    y_train = train_temp.iloc[:,-1]\n",
    "    \n",
    "    #del SVCrbf\n",
    "    SVCrbf = svm.SVC(\n",
    "        kernel='rbf',\n",
    "        gamma=0.1,\n",
    "        C=3\n",
    "    )\n",
    "    #print(X_train.shape)\n",
    "    #print(y_train.shape)\n",
    "    \n",
    "    SVCrbf.fit(X_train,y_train)\n",
    "    print(\"**********************************************************************\")\n",
    "    print(\"Acuracia para a classe \"+target+\":\",SVCrbf.score(X_valid,df_valid[target]))\n",
    "    predictions = SVCrbf.predict(X_valid)\n",
    "    print(\"Roc AUC score para a classe \"+target+\":\",roc_auc_score(df_valid[target],predictions))\n",
    "    print(\"Precision:\",precision_score(df_valid[target],predictions))\n",
    "    print(\"Recall:\",recall_score(df_valid[target],predictions))\n",
    "    #X = np.concatenate((X_train,X_valid))\n",
    "    #y = np.concatenate((df_train[target],df_valid[target]))\n",
    "    #SVCrbf.fit(X,y)\n",
    "    #Scoring\n",
    "    #scores = cross_val_score(SVCrbf, X, y, cv = 3)\n",
    "    #print('Training + Validation score(cross-val) para classe '+target+':',scores.mean())\n",
    "    joblib.dump(SVCrbf,'../models/SVCrbf_'+target+'.pkl')\n",
    "    models[target]=joblib.load('../models/SVCrbf_'+target+'.pkl')\n",
    "    \n",
    "print(\"**********************************************************************\")"
   ]
  },
  {
   "cell_type": "code",
   "execution_count": null,
   "metadata": {},
   "outputs": [],
   "source": []
  },
  {
   "cell_type": "code",
   "execution_count": null,
   "metadata": {},
   "outputs": [],
   "source": [
    "#Creating a new dataframe for stacking\n",
    "#The training and validation datasets will come from the original validation dataset\n",
    "stacking_df_train = pd.DataFrame(columns=list(models.keys()))\n",
    "stacking_df_valid = pd.DataFrame(columns=list(models.keys()))\n",
    "X_train, X_test, y_train, y_test = train_test_split(X_valid, y_valid, test_size=0.5, random_state=42)"
   ]
  },
  {
   "cell_type": "code",
   "execution_count": null,
   "metadata": {},
   "outputs": [],
   "source": [
    "for item in models.items():\n",
    "    label=item[0]\n",
    "    model = item[1]\n",
    "    values_train = model.predict(X_train)\n",
    "    stacking_df_train[label]=values_train\n",
    "    values_valid = model.predict(X_test)\n",
    "    stacking_df_valid[label]=values_valid\n",
    "\n",
    "for t in stacking_df_train['geral'].unique():\n",
    "    stacking_df_train['geral_'+str(t)] = (stacking_df_train['geral']==t).astype(int)\n",
    "    stacking_df_valid['geral_'+str(t)] = (stacking_df_valid['geral']==t).astype(int)\n",
    "    \n",
    "stacking_df_train['label']=y_train\n",
    "stacking_df_valid['label']=y_test\n",
    "\n",
    "stacking_df_train=stacking_df_train.drop('geral',axis=1)\n",
    "stacking_df_valid=stacking_df_valid.drop('geral',axis=1)"
   ]
  },
  {
   "cell_type": "code",
   "execution_count": null,
   "metadata": {},
   "outputs": [],
   "source": []
  },
  {
   "cell_type": "code",
   "execution_count": null,
   "metadata": {
    "scrolled": false
   },
   "outputs": [],
   "source": [
    "X_train = stacking_df_train.iloc[:,:-1]\n",
    "X_valid = stacking_df_valid.iloc[:,:-1]\n",
    "y_train = stacking_df_train.iloc[:,-1]\n",
    "y_valid = stacking_df_valid.iloc[:,-1]\n",
    "X = np.concatenate((X_train,X_valid))\n",
    "y = np.concatenate((y_train,y_valid))\n",
    "#Stacking into random forest\n",
    "print('Stacking all models into a Decision Tree...')\n",
    "\"\"\"\n",
    "#Param Grid\n",
    "n_estimators = [int(x) for x in np.linspace(start = 200, stop = 2000, num = 10)]\n",
    "\n",
    "# Maximum number of levels in tree\n",
    "max_depth = [int(x) for x in np.linspace(10, 110, num = 11)]\n",
    "max_depth.append(None)\n",
    "\n",
    "# Minimum number of samples required to split a node\n",
    "min_samples_split = [2, 5, 10]\n",
    "\n",
    "# Method of selecting samples for training each tree\n",
    "bootstrap = [True, False]# Create the random grid\n",
    "\n",
    "random_grid = {'n_estimators': n_estimators,\n",
    "               'max_depth': max_depth,\n",
    "               'min_samples_split': min_samples_split,\n",
    "               'bootstrap': bootstrap}\n",
    "#RandomSearch\n",
    "# Use the random grid to search for best hyperparameters\n",
    "rf = RandomForestClassifier()\n",
    "\n",
    "# Random search of parameters, using 3 fold cross validation, \n",
    "# search across 100 different combinations, and use all available cores\n",
    "rf_random = RandomizedSearchCV(\n",
    "    estimator = rf,\n",
    "    param_distributions = random_grid,\n",
    "    n_iter = 100,\n",
    "    random_state=42,\n",
    "    n_jobs = -1)# Fit the random search model\n",
    "\n",
    "rf_random.fit(X_train, y_train)\n",
    "RFC = rf_random.best_estimator_\n",
    "\"\"\"\n",
    "RFC = DecisionTreeClassifier(\n",
    "    min_samples_split=2\n",
    "    \n",
    ")\n",
    "RFC.fit(X_train,y_train)\n",
    "\n",
    "print('Acuracia para a base de validação:',RFC.score(X_valid,y_valid))\n",
    "#print('Retreinando com validação...')\n",
    "#RFC.fit(X,y)\n",
    "#Scoring\n",
    "#scores = cross_val_score(RFC, X, y, cv = 10)\n",
    "#print('Training + Validation score(cross-val):',scores.mean())\n",
    "#joblib.dump(RFC,'../models/RFC.pkl')"
   ]
  },
  {
   "cell_type": "code",
   "execution_count": null,
   "metadata": {},
   "outputs": [],
   "source": [
    "from sklearn.tree import DecisionTreeClassifier"
   ]
  },
  {
   "cell_type": "code",
   "execution_count": null,
   "metadata": {
    "scrolled": false
   },
   "outputs": [],
   "source": [
    "##################################\n",
    "#Paradigma One vs All\n",
    "##################################\n",
    "#DataFrame com as features extraidas\n",
    "\n",
    "#Importando base de treino\n",
    "df_train = pd.read_csv('../data/data.csv',index_col=False)\n",
    "df_valid = pd.read_csv('../data/data_validacao.csv',index_col=False)\n",
    "# Dropping unneccesary columns\n",
    "df_train = df_train.drop(['filename'],axis=1)\n",
    "df_valid = df_valid.drop('filename',axis=1)\n",
    "#################################################################\n",
    "#Encoding\n",
    "#################################################################\n",
    "class_list = df_train.iloc[:, -1]\n",
    "encoder = LabelEncoder()\n",
    "encoder.fit(class_list)\n",
    "joblib.dump(encoder,'../models/encoder.pkl')\n",
    "#################################################################\n",
    "#Scailing\n",
    "#################################################################\n",
    "scaler = joblib.load('../models/scaler.pkl')\n",
    "df = df_train.append(df_valid,ignore_index=True)\n",
    "#scaler.fit(np.array(df.iloc[:, :-1], dtype = float))\n",
    "X_train = scaler.transform(np.array(df_train.iloc[:, :-1], dtype = float))\n",
    "X_valid = scaler.transform(np.array(df_valid.iloc[:, :-1], dtype = float))\n",
    "#joblib.dump(scaler,'../models/scaler.pkl')"
   ]
  },
  {
   "cell_type": "code",
   "execution_count": null,
   "metadata": {
    "scrolled": true
   },
   "outputs": [],
   "source": [
    "#Separando uma coluna para cada target\n",
    "for target in df['label'].unique():\n",
    "    df[target] = (df['label']==target).astype(int)\n",
    "    df_train[target] = (df_train['label']==target).astype(int)\n",
    "    df_valid[target] = (df_valid['label']==target).astype(int)"
   ]
  },
  {
   "cell_type": "code",
   "execution_count": null,
   "metadata": {},
   "outputs": [],
   "source": [
    "#Treinando um modelo para cada classe\n",
    "models={}\n",
    "    \n",
    "models['geral'] = joblib.load('../models/SVCrbf.pkl')\n",
    "for target in df['label'].unique():\n",
    "    SVCrbf = svm.SVC(\n",
    "        kernel='rbf',\n",
    "        C=3.0,\n",
    "        gamma=1.0,\n",
    "        probability=False\n",
    "    )\n",
    "    SVCrbf.fit(X_train,df_train[target])\n",
    "    print(\"Acuracia para a classe \"+target+\":\",SVCrbf.score(X_valid,df_valid[target]))\n",
    "    X = np.concatenate((X_train,X_valid))\n",
    "    y = np.concatenate((df_train[target],df_valid[target]))\n",
    "    #SVCrbf.fit(X,y)\n",
    "    #Scoring\n",
    "    #scores = cross_val_score(SVCrbf, X, y, cv = 3)\n",
    "    #print('Training + Validation score(cross-val) para classe '+target+':',scores.mean())\n",
    "    \n",
    "    SVCrbf = joblib.load('../models/svcrbf.pkl')\n",
    "    SVCrbf.fit(X,y)\n",
    "    joblib.dump(SVCrbf,'../models/SVCrbf_'+target+'.pkl')\n",
    "    models[target]=joblib.load('../models/SVCrbf_'+target+'.pkl')"
   ]
  },
  {
   "cell_type": "code",
   "execution_count": null,
   "metadata": {},
   "outputs": [],
   "source": [
    "#Ok, agora vamos criar uma nova base com a predição de todos os modelos\n",
    "stacking_df_train = pd.DataFrame(columns=list(models.keys()))\n",
    "stacking_df_valid = pd.DataFrame(columns=list(models.keys()))\n",
    "for item in models.items():\n",
    "    label=item[0]\n",
    "    model = item[1]\n",
    "    values_train = model.predict(X_train)\n",
    "    stacking_df_train[label]=values_train\n",
    "    values_valid = model.predict(X_valid)\n",
    "    stacking_df_valid[label]=values_valid\n",
    "stacking_df_train['label']=y_train\n",
    "stacking_df_valid['label']=y_valid"
   ]
  },
  {
   "cell_type": "code",
   "execution_count": null,
   "metadata": {
    "scrolled": false
   },
   "outputs": [],
   "source": [
    "X_train = stacking_df_train.iloc[:,:-1]\n",
    "X_valid = stacking_df_valid.iloc[:,:-1]\n",
    "y_train = stacking_df_train.iloc[:,-1]\n",
    "y_valid = stacking_df_valid.iloc[:,-1]\n",
    "X = np.concatenate((X_train,X_valid))\n",
    "y = np.concatenate((y_train,y_valid))"
   ]
  },
  {
   "cell_type": "markdown",
   "metadata": {},
   "source": [
    "### Param Grid"
   ]
  },
  {
   "cell_type": "code",
   "execution_count": null,
   "metadata": {},
   "outputs": [],
   "source": [
    "n_estimators = [int(x) for x in np.linspace(start = 200, stop = 2000, num = 10)]\n",
    "\n",
    "# Maximum number of levels in tree\n",
    "max_depth = [int(x) for x in np.linspace(10, 110, num = 11)]\n",
    "max_depth.append(None)\n",
    "\n",
    "# Minimum number of samples required to split a node\n",
    "min_samples_split = [2, 5, 10]\n",
    "\n",
    "# Method of selecting samples for training each tree\n",
    "bootstrap = [True, False]# Create the random grid\n",
    "\n",
    "random_grid = {'n_estimators': n_estimators,\n",
    "               'max_depth': max_depth,\n",
    "               'min_samples_split': min_samples_split,\n",
    "               'bootstrap': bootstrap}"
   ]
  },
  {
   "cell_type": "markdown",
   "metadata": {},
   "source": [
    "## Training Grid"
   ]
  },
  {
   "cell_type": "code",
   "execution_count": null,
   "metadata": {},
   "outputs": [],
   "source": [
    "# Use the random grid to search for best hyperparameters\n",
    "rf = RandomForestClassifier()\n",
    "\n",
    "# Random search of parameters, using 3 fold cross validation, \n",
    "# search across 100 different combinations, and use all available cores\n",
    "rf_random = RandomizedSearchCV(\n",
    "    estimator = rf,\n",
    "    param_distributions = random_grid,\n",
    "    n_iter = 100,\n",
    "    random_state=42,\n",
    "    n_jobs = -1)# Fit the random search model\n",
    "\n",
    "rf_random.fit(X_train, y_train)"
   ]
  },
  {
   "cell_type": "code",
   "execution_count": null,
   "metadata": {},
   "outputs": [],
   "source": [
    "RFC = rf_random.best_estimator_"
   ]
  },
  {
   "cell_type": "code",
   "execution_count": null,
   "metadata": {
    "scrolled": true
   },
   "outputs": [],
   "source": [
    "RFC.get_params()"
   ]
  },
  {
   "cell_type": "code",
   "execution_count": null,
   "metadata": {},
   "outputs": [],
   "source": [
    "RFC.score(X_valid,y_valid)"
   ]
  },
  {
   "cell_type": "code",
   "execution_count": null,
   "metadata": {},
   "outputs": [],
   "source": [
    "#Importando base de treino\n",
    "df_train = pd.read_csv('../data/data.csv',index_col=False)\n",
    "df_valid = pd.read_csv('../data/data_validacao.csv',index_col=False)\n",
    "# Dropping unneccesary columns\n",
    "df_train = df_train.drop(['filename'],axis=1)\n",
    "df_valid = df_valid.drop('filename',axis=1)\n",
    "#################################################################\n",
    "#Encoding\n",
    "#################################################################\n",
    "class_list = df_train.iloc[:, -1]\n",
    "encoder = LabelEncoder()\n",
    "encoder.fit(class_list)\n",
    "y_train = encoder.transform(class_list)\n",
    "y_valid = encoder.transform(df_valid.iloc[:,-1])\n",
    "joblib.dump(encoder,'../models/encoder.pkl')\n",
    "#################################################################\n",
    "#Scailing\n",
    "#################################################################\n",
    "scaler = StandardScaler()\n",
    "df = df_train.append(df_valid,ignore_index=True)\n",
    "scaler.fit(np.array(df.iloc[:, :-1], dtype = float))\n",
    "X_train = scaler.transform(np.array(df_train.iloc[:, :-1], dtype = float))\n",
    "X_valid = scaler.transform(np.array(df_valid.iloc[:, :-1], dtype = float))\n",
    "joblib.dump(scaler,'../models/scaler.pkl')\n",
    "#################################################################\n",
    "#Training svm with two different kernels\n",
    "#################################################################\n",
    "#Linear\n",
    "#SVClassifier = svm.SVC(kernel='linear')\n",
    "#SVClassifier.fit(X_train,y_train)\n",
    "#print('Accuracy of linear SVM:',SVClassifier.score(X_valid,y_valid))\n",
    "#joblib.dump(SVClassifier,'../models/svclinear.pkl')\n",
    "#################################################################\n",
    "#Divisor\n",
    "divisor = StratifiedKFold(n_splits = 5, random_state = 1)"
   ]
  },
  {
   "cell_type": "code",
   "execution_count": null,
   "metadata": {},
   "outputs": [],
   "source": [
    "X = np.concatenate((X_train,X_valid))\n",
    "y = np.concatenate((y_train,y_valid))\n",
    "\n",
    "SVCrbf = joblib.load('../models/svcrbf.pkl')"
   ]
  },
  {
   "cell_type": "code",
   "execution_count": null,
   "metadata": {},
   "outputs": [],
   "source": [
    "predictions=SVCrbf.predict(X_valid)"
   ]
  },
  {
   "cell_type": "code",
   "execution_count": null,
   "metadata": {},
   "outputs": [],
   "source": [
    "encoder.classes_.astype(str)"
   ]
  },
  {
   "cell_type": "code",
   "execution_count": null,
   "metadata": {},
   "outputs": [],
   "source": [
    "predictions"
   ]
  },
  {
   "cell_type": "code",
   "execution_count": null,
   "metadata": {},
   "outputs": [],
   "source": [
    "print(classification_report(y_valid,predictions,labels=encoder.classes_.astype(str)))"
   ]
  },
  {
   "cell_type": "code",
   "execution_count": null,
   "metadata": {},
   "outputs": [],
   "source": [
    "##################################################################\n",
    "#Re-treino com validação\n",
    "##################################################################\n",
    "print('Re-training with validation data')\n",
    "SVCrbf.fit(X,y)\n",
    "#Scoring\n",
    "scores = cross_val_score(SVCrbf, X, y, cv = 3)\n",
    "print('Training + Validation score(cross-val)',scores.mean())"
   ]
  },
  {
   "cell_type": "code",
   "execution_count": null,
   "metadata": {},
   "outputs": [],
   "source": [
    "from sklearn.metrics import multilabel_confusion_matrix, classification_report"
   ]
  },
  {
   "cell_type": "code",
   "execution_count": null,
   "metadata": {},
   "outputs": [],
   "source": [
    "type(X_train)"
   ]
  },
  {
   "cell_type": "code",
   "execution_count": null,
   "metadata": {},
   "outputs": [],
   "source": []
  }
 ],
 "metadata": {
  "kernelspec": {
   "display_name": "Python 3",
   "language": "python",
   "name": "python3"
  },
  "language_info": {
   "codemirror_mode": {
    "name": "ipython",
    "version": 3
   },
   "file_extension": ".py",
   "mimetype": "text/x-python",
   "name": "python",
   "nbconvert_exporter": "python",
   "pygments_lexer": "ipython3",
   "version": "3.7.4"
  }
 },
 "nbformat": 4,
 "nbformat_minor": 2
}
