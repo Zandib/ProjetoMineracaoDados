{
 "cells": [
  {
   "cell_type": "markdown",
   "metadata": {},
   "source": [
    "# Analise de audios gravados"
   ]
  },
  {
   "cell_type": "markdown",
   "metadata": {},
   "source": [
    "## Imports"
   ]
  },
  {
   "cell_type": "code",
   "execution_count": 77,
   "metadata": {},
   "outputs": [],
   "source": [
    "# feature extractoring and preprocessing data\n",
    "import librosa\n",
    "import librosa.output\n",
    "import pandas as pd\n",
    "import numpy as np\n",
    "import matplotlib.pyplot as plt\n",
    "%matplotlib inline\n",
    "import os\n",
    "from PIL import Image\n",
    "import pathlib\n",
    "import csv\n",
    "from scipy import signal\n",
    "\n",
    "import noisereduce as nr\n",
    "\n",
    "from tqdm import tqdm_notebook\n",
    "from tqdm import tqdm\n",
    "tqdm.pandas()\n",
    "\n",
    "from os import listdir\n",
    "from os.path import isfile, join\n",
    "\n",
    "# Preprocessing\n",
    "from sklearn.model_selection import train_test_split\n",
    "from sklearn.preprocessing import LabelEncoder, StandardScaler\n",
    "\n",
    "#Visualization\n",
    "from sklearn.decomposition import PCA\n",
    "\n",
    "#Transformer\n",
    "from sklearn.base import BaseEstimator\n",
    "from sklearn.base import TransformerMixin\n",
    "\n",
    "#Learning\n",
    "from sklearn.tree import DecisionTreeClassifier\n",
    "from sklearn.naive_bayes import GaussianNB\n",
    "from sklearn.ensemble import RandomForestClassifier\n",
    "from sklearn import svm\n",
    "from sklearn.ensemble import GradientBoostingClassifier\n",
    "\n",
    "#SearchGrid\n",
    "from sklearn.model_selection import RandomizedSearchCV\n",
    "from sklearn.model_selection import GridSearchCV\n",
    "\n",
    "#Evaluation\n",
    "from sklearn.metrics import confusion_matrix\n",
    "\n",
    "#Saving\n",
    "import pickle\n",
    "from sklearn.externals import joblib \n",
    "\n",
    "import warnings\n",
    "warnings.filterwarnings('ignore')"
   ]
  },
  {
   "cell_type": "markdown",
   "metadata": {},
   "source": [
    "### Loads"
   ]
  },
  {
   "cell_type": "code",
   "execution_count": 81,
   "metadata": {},
   "outputs": [
    {
     "data": {
      "application/vnd.jupyter.widget-view+json": {
       "model_id": "5d167ae052364f6783f0c1ad681b1a5e",
       "version_major": 2,
       "version_minor": 0
      },
      "text/plain": [
       "HBox(children=(IntProgress(value=0, max=356), HTML(value='')))"
      ]
     },
     "metadata": {},
     "output_type": "display_data"
    },
    {
     "name": "stdout",
     "output_type": "stream",
     "text": [
      "\n"
     ]
    }
   ],
   "source": [
    "### Primeiramente para todo nosso conjunto de treino, vamos isolar os dados de cada classe\n",
    "#Training files\n",
    "t_path = '../treinamento/'\n",
    "onlyfiles = [f for f in listdir(t_path) if isfile(join(t_path, f))]\n",
    "\n",
    "#Makes dirs\n",
    "classes = 'a,b,c,d,h,m,n,x,6,7'.split(',')\n",
    "for c in classes:\n",
    "    pathlib.Path(f'../treinamento/{c}').mkdir(parents=True, exist_ok=True)  \n",
    "\n",
    "\n",
    "new_df = pd.DataFrame()\n",
    "for en,file in enumerate(tqdm_notebook(onlyfiles)):\n",
    "    data,fs = librosa.load(t_path+file)\n",
    "    \n",
    "    #4 letras por audio\n",
    "    for i in range(0,4):\n",
    "        ini=int(i*(data.shape[0]/4))\n",
    "        fim=int((i+1)*(data.shape[0]/4))\n",
    "        #print(ini,fim)\n",
    "        sample_data=data[ini:fim]\n",
    "        librosa.output.write_wav(f'../treinamento/{file[i]}/{en}_{i}.wav',sample_data,int(data.shape[0]/4))\n",
    "        \n",
    "    "
   ]
  },
  {
   "cell_type": "markdown",
   "metadata": {},
   "source": [
    "### Carregar toda a base de treinamento e salvar seu spectograma para analise Futura"
   ]
  },
  {
   "cell_type": "code",
   "execution_count": 83,
   "metadata": {},
   "outputs": [
    {
     "name": "stderr",
     "output_type": "stream",
     "text": [
      "\n",
      "  0%|                                                                                           | 0/10 [00:00<?, ?it/s]"
     ]
    },
    {
     "data": {
      "application/vnd.jupyter.widget-view+json": {
       "model_id": "4e680eb8a74748fb9de8a0a9bcb78cb2",
       "version_major": 2,
       "version_minor": 0
      },
      "text/plain": [
       "HBox(children=(IntProgress(value=0, max=136), HTML(value='')))"
      ]
     },
     "metadata": {},
     "output_type": "display_data"
    },
    {
     "name": "stdout",
     "output_type": "stream",
     "text": [
      "\n"
     ]
    },
    {
     "name": "stderr",
     "output_type": "stream",
     "text": [
      "\n",
      " 10%|████████▎                                                                          | 1/10 [00:23<03:33, 23.71s/it]"
     ]
    },
    {
     "data": {
      "application/vnd.jupyter.widget-view+json": {
       "model_id": "ab70fda8865948a7a6a877bfd08a3f0b",
       "version_major": 2,
       "version_minor": 0
      },
      "text/plain": [
       "HBox(children=(IntProgress(value=0, max=156), HTML(value='')))"
      ]
     },
     "metadata": {},
     "output_type": "display_data"
    },
    {
     "name": "stdout",
     "output_type": "stream",
     "text": [
      "\n"
     ]
    },
    {
     "name": "stderr",
     "output_type": "stream",
     "text": [
      "\n",
      " 20%|████████████████▌                                                                  | 2/10 [00:50<03:16, 24.51s/it]"
     ]
    },
    {
     "data": {
      "application/vnd.jupyter.widget-view+json": {
       "model_id": "bf0689eb567546e1bf874f1bb69f611b",
       "version_major": 2,
       "version_minor": 0
      },
      "text/plain": [
       "HBox(children=(IntProgress(value=0, max=139), HTML(value='')))"
      ]
     },
     "metadata": {},
     "output_type": "display_data"
    },
    {
     "name": "stdout",
     "output_type": "stream",
     "text": [
      "\n"
     ]
    },
    {
     "name": "stderr",
     "output_type": "stream",
     "text": [
      "\n",
      " 30%|████████████████████████▉                                                          | 3/10 [01:13<02:49, 24.21s/it]"
     ]
    },
    {
     "data": {
      "application/vnd.jupyter.widget-view+json": {
       "model_id": "a8d55e6e70c74957bc27fb841427bad8",
       "version_major": 2,
       "version_minor": 0
      },
      "text/plain": [
       "HBox(children=(IntProgress(value=0, max=140), HTML(value='')))"
      ]
     },
     "metadata": {},
     "output_type": "display_data"
    },
    {
     "name": "stdout",
     "output_type": "stream",
     "text": [
      "\n"
     ]
    },
    {
     "name": "stderr",
     "output_type": "stream",
     "text": [
      "\n",
      " 40%|█████████████████████████████████▏                                                 | 4/10 [01:39<02:27, 24.58s/it]"
     ]
    },
    {
     "data": {
      "application/vnd.jupyter.widget-view+json": {
       "model_id": "c236a5853a5247e9acdb75178b1a4df6",
       "version_major": 2,
       "version_minor": 0
      },
      "text/plain": [
       "HBox(children=(IntProgress(value=0, max=137), HTML(value='')))"
      ]
     },
     "metadata": {},
     "output_type": "display_data"
    },
    {
     "name": "stdout",
     "output_type": "stream",
     "text": [
      "\n"
     ]
    },
    {
     "name": "stderr",
     "output_type": "stream",
     "text": [
      "\n",
      " 50%|█████████████████████████████████████████▌                                         | 5/10 [02:04<02:04, 24.86s/it]"
     ]
    },
    {
     "data": {
      "application/vnd.jupyter.widget-view+json": {
       "model_id": "19384148c35b466a98fa68f037971e63",
       "version_major": 2,
       "version_minor": 0
      },
      "text/plain": [
       "HBox(children=(IntProgress(value=0, max=148), HTML(value='')))"
      ]
     },
     "metadata": {},
     "output_type": "display_data"
    },
    {
     "name": "stdout",
     "output_type": "stream",
     "text": [
      "\n"
     ]
    },
    {
     "name": "stderr",
     "output_type": "stream",
     "text": [
      "\n",
      " 60%|█████████████████████████████████████████████████▊                                 | 6/10 [02:30<01:41, 25.32s/it]"
     ]
    },
    {
     "data": {
      "application/vnd.jupyter.widget-view+json": {
       "model_id": "5697c1a94b494c95ba7c65f04e44d946",
       "version_major": 2,
       "version_minor": 0
      },
      "text/plain": [
       "HBox(children=(IntProgress(value=0, max=136), HTML(value='')))"
      ]
     },
     "metadata": {},
     "output_type": "display_data"
    },
    {
     "name": "stdout",
     "output_type": "stream",
     "text": [
      "\n"
     ]
    },
    {
     "name": "stderr",
     "output_type": "stream",
     "text": [
      "\n",
      " 70%|██████████████████████████████████████████████████████████                         | 7/10 [02:54<01:14, 24.91s/it]"
     ]
    },
    {
     "data": {
      "application/vnd.jupyter.widget-view+json": {
       "model_id": "f01fd8e37c264683b7dd300d2ae898ba",
       "version_major": 2,
       "version_minor": 0
      },
      "text/plain": [
       "HBox(children=(IntProgress(value=0, max=138), HTML(value='')))"
      ]
     },
     "metadata": {},
     "output_type": "display_data"
    },
    {
     "name": "stdout",
     "output_type": "stream",
     "text": [
      "\n"
     ]
    },
    {
     "name": "stderr",
     "output_type": "stream",
     "text": [
      "\n",
      " 80%|██████████████████████████████████████████████████████████████████▍                | 8/10 [03:18<00:48, 24.46s/it]"
     ]
    },
    {
     "data": {
      "application/vnd.jupyter.widget-view+json": {
       "model_id": "1c9fb097a6554e2f813220938bf1d558",
       "version_major": 2,
       "version_minor": 0
      },
      "text/plain": [
       "HBox(children=(IntProgress(value=0, max=150), HTML(value='')))"
      ]
     },
     "metadata": {},
     "output_type": "display_data"
    },
    {
     "name": "stdout",
     "output_type": "stream",
     "text": [
      "\n"
     ]
    },
    {
     "name": "stderr",
     "output_type": "stream",
     "text": [
      "\n",
      " 90%|██████████████████████████████████████████████████████████████████████████▋        | 9/10 [03:44<00:24, 24.92s/it]"
     ]
    },
    {
     "data": {
      "application/vnd.jupyter.widget-view+json": {
       "model_id": "71c10bae3abe499ba14d2fce65043e4d",
       "version_major": 2,
       "version_minor": 0
      },
      "text/plain": [
       "HBox(children=(IntProgress(value=0, max=144), HTML(value='')))"
      ]
     },
     "metadata": {},
     "output_type": "display_data"
    },
    {
     "name": "stdout",
     "output_type": "stream",
     "text": [
      "\n"
     ]
    },
    {
     "name": "stderr",
     "output_type": "stream",
     "text": [
      "\n",
      "100%|██████████████████████████████████████████████████████████████████████████████████| 10/10 [04:08<00:00, 24.88s/it]\n"
     ]
    },
    {
     "data": {
      "text/plain": [
       "<Figure size 720x720 with 0 Axes>"
      ]
     },
     "metadata": {},
     "output_type": "display_data"
    }
   ],
   "source": [
    "cmap = plt.get_cmap('inferno')\n",
    "\n",
    "plt.figure(figsize=(10,10))\n",
    "#genres = 'blues classical country disco hiphop jazz metal pop reggae rock'.split()\n",
    "for c in tqdm(classes):\n",
    "    pathlib.Path(f'../treinamento/img_data/{c}').mkdir(parents=True, exist_ok=True)     \n",
    "    for filename in tqdm_notebook(os.listdir(f'../treinamento/{c}')):\n",
    "        fname = f'../treinamento/{c}/{filename}'\n",
    "        y, sr = librosa.load(fname, mono=True, duration=5)\n",
    "        plt.specgram(y, NFFT=2048, Fs=2, Fc=0, noverlap=128, cmap=cmap, sides='default', mode='default', scale='dB');\n",
    "        plt.axis('off');\n",
    "        plt.savefig(f'../treinamento/img_data/{c}/{filename[:-3].replace(\".\", \"\")+c}.png')\n",
    "        plt.clf()"
   ]
  },
  {
   "cell_type": "markdown",
   "metadata": {},
   "source": [
    "### Feature extraction\n",
    "###### Para esta parte estaremos utilizando as features implementadas pela biblioteca librosa\n",
    "\n",
    "- Mel-frequency cepstral coefficients (MFCC)(20 in number)\n",
    "- Spectral Centroid,\n",
    "- Zero Crossing Rate\n",
    "- Chroma Frequencies\n",
    "- Spectral Roll-off.\n"
   ]
  },
  {
   "cell_type": "code",
   "execution_count": 127,
   "metadata": {},
   "outputs": [],
   "source": [
    "header = 'filename chroma_stft chroma_cqt rmse spectral_centroid spectral_bandwidth rolloff zero_crossing_rate'\n",
    "for i in range(1, 21):\n",
    "    header += f' mfcc{i}'\n",
    "header += ' label'\n",
    "header = header.split()"
   ]
  },
  {
   "cell_type": "markdown",
   "metadata": {},
   "source": [
    "### Salvando resultado em .csv para leitura"
   ]
  },
  {
   "cell_type": "code",
   "execution_count": 128,
   "metadata": {
    "scrolled": false
   },
   "outputs": [
    {
     "data": {
      "application/vnd.jupyter.widget-view+json": {
       "model_id": "5636fbbe2612479a988cff99d4ced361",
       "version_major": 2,
       "version_minor": 0
      },
      "text/plain": [
       "HBox(children=(IntProgress(value=0, max=136), HTML(value='')))"
      ]
     },
     "metadata": {},
     "output_type": "display_data"
    },
    {
     "name": "stdout",
     "output_type": "stream",
     "text": [
      "\n",
      "class a extracted\n"
     ]
    },
    {
     "data": {
      "application/vnd.jupyter.widget-view+json": {
       "model_id": "a98c8a5266b045a28feea313b6ad666a",
       "version_major": 2,
       "version_minor": 0
      },
      "text/plain": [
       "HBox(children=(IntProgress(value=0, max=156), HTML(value='')))"
      ]
     },
     "metadata": {},
     "output_type": "display_data"
    },
    {
     "name": "stdout",
     "output_type": "stream",
     "text": [
      "\n",
      "class b extracted\n"
     ]
    },
    {
     "data": {
      "application/vnd.jupyter.widget-view+json": {
       "model_id": "afccb978e5d04089ab702c9be8d55798",
       "version_major": 2,
       "version_minor": 0
      },
      "text/plain": [
       "HBox(children=(IntProgress(value=0, max=139), HTML(value='')))"
      ]
     },
     "metadata": {},
     "output_type": "display_data"
    },
    {
     "name": "stdout",
     "output_type": "stream",
     "text": [
      "\n",
      "class c extracted\n"
     ]
    },
    {
     "data": {
      "application/vnd.jupyter.widget-view+json": {
       "model_id": "3d0d00ab78f841a6a992cec83c2b43cf",
       "version_major": 2,
       "version_minor": 0
      },
      "text/plain": [
       "HBox(children=(IntProgress(value=0, max=140), HTML(value='')))"
      ]
     },
     "metadata": {},
     "output_type": "display_data"
    },
    {
     "name": "stdout",
     "output_type": "stream",
     "text": [
      "\n",
      "class d extracted\n"
     ]
    },
    {
     "data": {
      "application/vnd.jupyter.widget-view+json": {
       "model_id": "339fe727361445d0a45c5680f6b96104",
       "version_major": 2,
       "version_minor": 0
      },
      "text/plain": [
       "HBox(children=(IntProgress(value=0, max=137), HTML(value='')))"
      ]
     },
     "metadata": {},
     "output_type": "display_data"
    },
    {
     "name": "stdout",
     "output_type": "stream",
     "text": [
      "\n",
      "class h extracted\n"
     ]
    },
    {
     "data": {
      "application/vnd.jupyter.widget-view+json": {
       "model_id": "9e7d358448834afaa12e12ac9c03c220",
       "version_major": 2,
       "version_minor": 0
      },
      "text/plain": [
       "HBox(children=(IntProgress(value=0, max=148), HTML(value='')))"
      ]
     },
     "metadata": {},
     "output_type": "display_data"
    },
    {
     "name": "stdout",
     "output_type": "stream",
     "text": [
      "\n",
      "class m extracted\n"
     ]
    },
    {
     "data": {
      "application/vnd.jupyter.widget-view+json": {
       "model_id": "f3b0b6a0dc7346dbaf8c65470f664afa",
       "version_major": 2,
       "version_minor": 0
      },
      "text/plain": [
       "HBox(children=(IntProgress(value=0, max=136), HTML(value='')))"
      ]
     },
     "metadata": {},
     "output_type": "display_data"
    },
    {
     "name": "stdout",
     "output_type": "stream",
     "text": [
      "\n",
      "class n extracted\n"
     ]
    },
    {
     "data": {
      "application/vnd.jupyter.widget-view+json": {
       "model_id": "bff81924e85f444ab5ab09aa631b51be",
       "version_major": 2,
       "version_minor": 0
      },
      "text/plain": [
       "HBox(children=(IntProgress(value=0, max=138), HTML(value='')))"
      ]
     },
     "metadata": {},
     "output_type": "display_data"
    },
    {
     "name": "stdout",
     "output_type": "stream",
     "text": [
      "\n",
      "class x extracted\n"
     ]
    },
    {
     "data": {
      "application/vnd.jupyter.widget-view+json": {
       "model_id": "9a13cfef55ac408f9c3260165ed156ef",
       "version_major": 2,
       "version_minor": 0
      },
      "text/plain": [
       "HBox(children=(IntProgress(value=0, max=150), HTML(value='')))"
      ]
     },
     "metadata": {},
     "output_type": "display_data"
    },
    {
     "name": "stdout",
     "output_type": "stream",
     "text": [
      "\n",
      "class 6 extracted\n"
     ]
    },
    {
     "data": {
      "application/vnd.jupyter.widget-view+json": {
       "model_id": "102059d16b9f4d6c98c74b6e4a6c43b2",
       "version_major": 2,
       "version_minor": 0
      },
      "text/plain": [
       "HBox(children=(IntProgress(value=0, max=144), HTML(value='')))"
      ]
     },
     "metadata": {},
     "output_type": "display_data"
    },
    {
     "name": "stdout",
     "output_type": "stream",
     "text": [
      "\n",
      "class 7 extracted\n"
     ]
    }
   ],
   "source": [
    "file = open('data.csv', 'w', newline='')\n",
    "with file:\n",
    "    writer = csv.writer(file)\n",
    "    writer.writerow(header)\n",
    "classes = 'a,b,c,d,h,m,n,x,6,7'.split(',')\n",
    "for c in classes:\n",
    "    for filename in tqdm_notebook(os.listdir(f'../treinamento/{c}')):\n",
    "        audioname = f'../treinamento/{c}/{filename}'\n",
    "        y, sr = librosa.load(audioname, mono=True)\n",
    "        #Noise Reduction considering last part only noise\n",
    "        y = nr.reduce_noise(audio_clip=y,noise_clip=y[1750:],verbose=False)\n",
    "        #Getting normalization\n",
    "        y = librosa.util.normalize(y)\n",
    "        \n",
    "        #Chroma Frequencies\n",
    "        chroma_stft = librosa.feature.chroma_stft(y=y, sr=sr)\n",
    "        #print(chroma_stft)\n",
    "        #Chroma cqt\n",
    "        chroma_cqt = librosa.feature.chroma_cqt(y=y,sr=sr)\n",
    "        #Aplying nearest neighbour filtering\n",
    "        chroma_cqt = librosa.decompose.nn_filter(chroma_cqt,\n",
    "                                          aggregate=np.median,\n",
    "                                          metric='cosine')\n",
    "        #Spectral centroid\n",
    "        spec_cent = librosa.feature.spectral_centroid(y=y, sr=sr)\n",
    "        #Spectral Bandwidth\n",
    "        spec_bw = librosa.feature.spectral_bandwidth(y=y, sr=sr)\n",
    "        #Spectral roll-off\n",
    "        rolloff = librosa.feature.spectral_rolloff(y=y, sr=sr)\n",
    "        #Zero Crossing Rate\n",
    "        zcr = librosa.feature.zero_crossing_rate(y)\n",
    "        #Mel-frequency cepstral coefficients (MFCC)(20 in number)\n",
    "        mfcc = librosa.feature.mfcc(y=y, sr=sr)\n",
    "        #RMSE\n",
    "        rmse = librosa.feature.rms(y=y)\n",
    "        \n",
    "        to_append = f'{filename} {np.mean(chroma_stft)} {np.mean(chroma_cqt)} {np.mean(rmse)} \\\n",
    "        {np.mean(spec_cent)} {np.mean(spec_bw)} {np.mean(rolloff)} {np.mean(zcr)}'    \n",
    "        #Expandindo o Mel-frequency em 20 atributos\n",
    "        for e in mfcc:\n",
    "            to_append += f' {np.mean(e)}'\n",
    "        to_append += f' {c}'\n",
    "        file = open('data.csv', 'a', newline='')\n",
    "        with file:\n",
    "            writer = csv.writer(file)\n",
    "            writer.writerow(to_append.split())\n",
    "        #break;\n",
    "    print(f'class {c} extracted')\n",
    "   # break;"
   ]
  },
  {
   "cell_type": "markdown",
   "metadata": {},
   "source": [
    "# Fazendo o mesmo exato procedimento com a base de validação"
   ]
  },
  {
   "cell_type": "code",
   "execution_count": 119,
   "metadata": {},
   "outputs": [
    {
     "data": {
      "application/vnd.jupyter.widget-view+json": {
       "model_id": "69a1a959f3ca4c0d89582ee14bc4e219",
       "version_major": 2,
       "version_minor": 0
      },
      "text/plain": [
       "HBox(children=(IntProgress(value=0, max=267), HTML(value='')))"
      ]
     },
     "metadata": {},
     "output_type": "display_data"
    },
    {
     "name": "stdout",
     "output_type": "stream",
     "text": [
      "\n"
     ]
    },
    {
     "name": "stderr",
     "output_type": "stream",
     "text": [
      "\n",
      "  0%|                                                                                           | 0/10 [00:00<?, ?it/s]"
     ]
    },
    {
     "data": {
      "application/vnd.jupyter.widget-view+json": {
       "model_id": "b24183f7e2034335a67d8456d5e16d6b",
       "version_major": 2,
       "version_minor": 0
      },
      "text/plain": [
       "HBox(children=(IntProgress(value=0, max=97), HTML(value='')))"
      ]
     },
     "metadata": {},
     "output_type": "display_data"
    },
    {
     "name": "stdout",
     "output_type": "stream",
     "text": [
      "\n"
     ]
    },
    {
     "name": "stderr",
     "output_type": "stream",
     "text": [
      "\n",
      " 10%|████████▎                                                                          | 1/10 [00:19<02:58, 19.81s/it]"
     ]
    },
    {
     "data": {
      "application/vnd.jupyter.widget-view+json": {
       "model_id": "62d4e9f750d942efadf61a60d0920b8a",
       "version_major": 2,
       "version_minor": 0
      },
      "text/plain": [
       "HBox(children=(IntProgress(value=0, max=106), HTML(value='')))"
      ]
     },
     "metadata": {},
     "output_type": "display_data"
    },
    {
     "name": "stdout",
     "output_type": "stream",
     "text": [
      "\n"
     ]
    },
    {
     "name": "stderr",
     "output_type": "stream",
     "text": [
      "\n",
      " 20%|████████████████▌                                                                  | 2/10 [00:39<02:37, 19.68s/it]"
     ]
    },
    {
     "data": {
      "application/vnd.jupyter.widget-view+json": {
       "model_id": "381f2af4570243d8910fede22e0a11c0",
       "version_major": 2,
       "version_minor": 0
      },
      "text/plain": [
       "HBox(children=(IntProgress(value=0, max=107), HTML(value='')))"
      ]
     },
     "metadata": {},
     "output_type": "display_data"
    },
    {
     "name": "stdout",
     "output_type": "stream",
     "text": [
      "\n"
     ]
    },
    {
     "name": "stderr",
     "output_type": "stream",
     "text": [
      "\n",
      " 30%|████████████████████████▉                                                          | 3/10 [00:59<02:18, 19.85s/it]"
     ]
    },
    {
     "data": {
      "application/vnd.jupyter.widget-view+json": {
       "model_id": "5403a182b1a142e8accae2e2697f2f97",
       "version_major": 2,
       "version_minor": 0
      },
      "text/plain": [
       "HBox(children=(IntProgress(value=0, max=110), HTML(value='')))"
      ]
     },
     "metadata": {},
     "output_type": "display_data"
    },
    {
     "name": "stdout",
     "output_type": "stream",
     "text": [
      "\n"
     ]
    },
    {
     "name": "stderr",
     "output_type": "stream",
     "text": [
      "\n",
      " 40%|█████████████████████████████████▏                                                 | 4/10 [01:19<01:59, 19.87s/it]"
     ]
    },
    {
     "data": {
      "application/vnd.jupyter.widget-view+json": {
       "model_id": "338ff73650b543acaca662a0632bdb2e",
       "version_major": 2,
       "version_minor": 0
      },
      "text/plain": [
       "HBox(children=(IntProgress(value=0, max=122), HTML(value='')))"
      ]
     },
     "metadata": {},
     "output_type": "display_data"
    },
    {
     "name": "stdout",
     "output_type": "stream",
     "text": [
      "\n"
     ]
    },
    {
     "name": "stderr",
     "output_type": "stream",
     "text": [
      "\n",
      " 50%|█████████████████████████████████████████▌                                         | 5/10 [01:42<01:43, 20.76s/it]"
     ]
    },
    {
     "data": {
      "application/vnd.jupyter.widget-view+json": {
       "model_id": "4d5822c00c1e41cb82f20296d7ec14f7",
       "version_major": 2,
       "version_minor": 0
      },
      "text/plain": [
       "HBox(children=(IntProgress(value=0, max=104), HTML(value='')))"
      ]
     },
     "metadata": {},
     "output_type": "display_data"
    },
    {
     "name": "stdout",
     "output_type": "stream",
     "text": [
      "\n"
     ]
    },
    {
     "name": "stderr",
     "output_type": "stream",
     "text": [
      "\n",
      " 60%|█████████████████████████████████████████████████▊                                 | 6/10 [02:00<01:20, 20.08s/it]"
     ]
    },
    {
     "data": {
      "application/vnd.jupyter.widget-view+json": {
       "model_id": "ec93e3655d8942ff8f777f84341d042d",
       "version_major": 2,
       "version_minor": 0
      },
      "text/plain": [
       "HBox(children=(IntProgress(value=0, max=113), HTML(value='')))"
      ]
     },
     "metadata": {},
     "output_type": "display_data"
    },
    {
     "name": "stdout",
     "output_type": "stream",
     "text": [
      "\n"
     ]
    },
    {
     "name": "stderr",
     "output_type": "stream",
     "text": [
      "\n",
      " 70%|██████████████████████████████████████████████████████████                         | 7/10 [02:21<01:01, 20.33s/it]"
     ]
    },
    {
     "data": {
      "application/vnd.jupyter.widget-view+json": {
       "model_id": "1389632cbbfa4f26b634d95066aac648",
       "version_major": 2,
       "version_minor": 0
      },
      "text/plain": [
       "HBox(children=(IntProgress(value=0, max=95), HTML(value='')))"
      ]
     },
     "metadata": {},
     "output_type": "display_data"
    },
    {
     "name": "stdout",
     "output_type": "stream",
     "text": [
      "\n"
     ]
    },
    {
     "name": "stderr",
     "output_type": "stream",
     "text": [
      "\n",
      " 80%|██████████████████████████████████████████████████████████████████▍                | 8/10 [02:38<00:38, 19.23s/it]"
     ]
    },
    {
     "data": {
      "application/vnd.jupyter.widget-view+json": {
       "model_id": "6ffe3f9f13d94bda8061e0979c1549c5",
       "version_major": 2,
       "version_minor": 0
      },
      "text/plain": [
       "HBox(children=(IntProgress(value=0), HTML(value='')))"
      ]
     },
     "metadata": {},
     "output_type": "display_data"
    },
    {
     "name": "stdout",
     "output_type": "stream",
     "text": [
      "\n"
     ]
    },
    {
     "name": "stderr",
     "output_type": "stream",
     "text": [
      "\n",
      " 90%|██████████████████████████████████████████████████████████████████████████▋        | 9/10 [02:56<00:18, 18.90s/it]"
     ]
    },
    {
     "data": {
      "application/vnd.jupyter.widget-view+json": {
       "model_id": "6c9ffd231d994f93b7f3a9b7cd287198",
       "version_major": 2,
       "version_minor": 0
      },
      "text/plain": [
       "HBox(children=(IntProgress(value=0, max=114), HTML(value='')))"
      ]
     },
     "metadata": {},
     "output_type": "display_data"
    },
    {
     "name": "stdout",
     "output_type": "stream",
     "text": [
      "\n"
     ]
    },
    {
     "name": "stderr",
     "output_type": "stream",
     "text": [
      "\n",
      "100%|██████████████████████████████████████████████████████████████████████████████████| 10/10 [03:16<00:00, 19.67s/it]\n"
     ]
    },
    {
     "data": {
      "application/vnd.jupyter.widget-view+json": {
       "model_id": "24f2e37dfd9c42ab91e3815126f41cce",
       "version_major": 2,
       "version_minor": 0
      },
      "text/plain": [
       "HBox(children=(IntProgress(value=0, max=97), HTML(value='')))"
      ]
     },
     "metadata": {},
     "output_type": "display_data"
    },
    {
     "name": "stdout",
     "output_type": "stream",
     "text": [
      "\n",
      "class a extracted\n"
     ]
    },
    {
     "data": {
      "application/vnd.jupyter.widget-view+json": {
       "model_id": "8b17ade134fd4839a146d21518ae4505",
       "version_major": 2,
       "version_minor": 0
      },
      "text/plain": [
       "HBox(children=(IntProgress(value=0, max=106), HTML(value='')))"
      ]
     },
     "metadata": {},
     "output_type": "display_data"
    },
    {
     "name": "stdout",
     "output_type": "stream",
     "text": [
      "\n",
      "class b extracted\n"
     ]
    },
    {
     "data": {
      "application/vnd.jupyter.widget-view+json": {
       "model_id": "aa3029dad4eb419fb647b47377bbab65",
       "version_major": 2,
       "version_minor": 0
      },
      "text/plain": [
       "HBox(children=(IntProgress(value=0, max=107), HTML(value='')))"
      ]
     },
     "metadata": {},
     "output_type": "display_data"
    },
    {
     "name": "stdout",
     "output_type": "stream",
     "text": [
      "\n",
      "class c extracted\n"
     ]
    },
    {
     "data": {
      "application/vnd.jupyter.widget-view+json": {
       "model_id": "634a8dbbad7a4855aa146085570a36ba",
       "version_major": 2,
       "version_minor": 0
      },
      "text/plain": [
       "HBox(children=(IntProgress(value=0, max=110), HTML(value='')))"
      ]
     },
     "metadata": {},
     "output_type": "display_data"
    },
    {
     "name": "stdout",
     "output_type": "stream",
     "text": [
      "\n",
      "class d extracted\n"
     ]
    },
    {
     "data": {
      "application/vnd.jupyter.widget-view+json": {
       "model_id": "cddb44ad32d0447694fab22d8d8b776c",
       "version_major": 2,
       "version_minor": 0
      },
      "text/plain": [
       "HBox(children=(IntProgress(value=0, max=122), HTML(value='')))"
      ]
     },
     "metadata": {},
     "output_type": "display_data"
    },
    {
     "name": "stdout",
     "output_type": "stream",
     "text": [
      "\n",
      "class h extracted\n"
     ]
    },
    {
     "data": {
      "application/vnd.jupyter.widget-view+json": {
       "model_id": "078ae6601d41411fae694e35414d1f6a",
       "version_major": 2,
       "version_minor": 0
      },
      "text/plain": [
       "HBox(children=(IntProgress(value=0, max=104), HTML(value='')))"
      ]
     },
     "metadata": {},
     "output_type": "display_data"
    },
    {
     "name": "stdout",
     "output_type": "stream",
     "text": [
      "\n",
      "class m extracted\n"
     ]
    },
    {
     "data": {
      "application/vnd.jupyter.widget-view+json": {
       "model_id": "724f0036de72418a8edf871d540538bd",
       "version_major": 2,
       "version_minor": 0
      },
      "text/plain": [
       "HBox(children=(IntProgress(value=0, max=113), HTML(value='')))"
      ]
     },
     "metadata": {},
     "output_type": "display_data"
    },
    {
     "name": "stdout",
     "output_type": "stream",
     "text": [
      "\n",
      "class n extracted\n"
     ]
    },
    {
     "data": {
      "application/vnd.jupyter.widget-view+json": {
       "model_id": "8f66f7ed044947a189b45e5af731e416",
       "version_major": 2,
       "version_minor": 0
      },
      "text/plain": [
       "HBox(children=(IntProgress(value=0, max=95), HTML(value='')))"
      ]
     },
     "metadata": {},
     "output_type": "display_data"
    },
    {
     "name": "stdout",
     "output_type": "stream",
     "text": [
      "\n",
      "class x extracted\n"
     ]
    },
    {
     "data": {
      "application/vnd.jupyter.widget-view+json": {
       "model_id": "55fa2c13c17647a48352c0b314b2d713",
       "version_major": 2,
       "version_minor": 0
      },
      "text/plain": [
       "HBox(children=(IntProgress(value=0), HTML(value='')))"
      ]
     },
     "metadata": {},
     "output_type": "display_data"
    },
    {
     "name": "stdout",
     "output_type": "stream",
     "text": [
      "\n",
      "class 6 extracted\n"
     ]
    },
    {
     "data": {
      "application/vnd.jupyter.widget-view+json": {
       "model_id": "136ccc5e32be4b22a945522566421dba",
       "version_major": 2,
       "version_minor": 0
      },
      "text/plain": [
       "HBox(children=(IntProgress(value=0, max=114), HTML(value='')))"
      ]
     },
     "metadata": {},
     "output_type": "display_data"
    },
    {
     "name": "stdout",
     "output_type": "stream",
     "text": [
      "\n",
      "class 7 extracted\n"
     ]
    },
    {
     "data": {
      "text/plain": [
       "<Figure size 720x720 with 0 Axes>"
      ]
     },
     "metadata": {},
     "output_type": "display_data"
    }
   ],
   "source": [
    "#########################################################################################################\n",
    "### Primeiramente para todo nosso conjunto de treino, vamos isolar os dados de cada classe\n",
    "#Training files\n",
    "t_path = '../validacao/'\n",
    "onlyfiles = [f for f in listdir(t_path) if isfile(join(t_path, f))]\n",
    "\n",
    "#Makes dirs\n",
    "classes = 'a,b,c,d,h,m,n,x,6,7'.split(',')\n",
    "for c in classes:\n",
    "    pathlib.Path(f'../validacao/{c}').mkdir(parents=True, exist_ok=True)  \n",
    "\n",
    "\n",
    "new_df = pd.DataFrame()\n",
    "for en,file in enumerate(tqdm_notebook(onlyfiles)):\n",
    "    data,fs = librosa.load(t_path+file)\n",
    "    \n",
    "    #4 letras por audio\n",
    "    for i in range(0,4):\n",
    "        ini=int(i*(data.shape[0]/4))\n",
    "        fim=int((i+1)*(data.shape[0]/4))\n",
    "        #print(ini,fim)\n",
    "        sample_data=data[ini:fim]\n",
    "        librosa.output.write_wav(f'../validacao/{file[i]}/{en}_{i}.wav',sample_data,int(data.shape[0]/4))\n",
    "#########################################################################################################\n",
    "cmap = plt.get_cmap('inferno')\n",
    "\n",
    "plt.figure(figsize=(10,10))\n",
    "#genres = 'blues classical country disco hiphop jazz metal pop reggae rock'.split()\n",
    "for c in tqdm(classes):\n",
    "    pathlib.Path(f'../validacao/img_data/{c}').mkdir(parents=True, exist_ok=True)     \n",
    "    for filename in tqdm_notebook(os.listdir(f'../validacao/{c}')):\n",
    "        fname = f'../validacao/{c}/{filename}'\n",
    "        y, sr = librosa.load(fname, mono=True, duration=5)\n",
    "        plt.specgram(y, NFFT=2048, Fs=2, Fc=0, noverlap=128, cmap=cmap, sides='default', mode='default', scale='dB');\n",
    "        plt.axis('off');\n",
    "        plt.savefig(f'../validacao/img_data/{c}/{filename[:-3].replace(\".\", \"\")+c}.png')\n",
    "        plt.clf()\n",
    "#########################################################################################################\n",
    "header = 'filename chroma_stft chroma_cqt rmse spectral_centroid spectral_bandwidth rolloff zero_crossing_rate'\n",
    "for i in range(1, 21):\n",
    "    header += f' mfcc{i}'\n",
    "header += ' label'\n",
    "header = header.split()\n",
    "#########################################################################################################\n",
    "file = open('data_validacao.csv', 'w', newline='')\n",
    "with file:\n",
    "    writer = csv.writer(file)\n",
    "    writer.writerow(header)\n",
    "classes = 'a,b,c,d,h,m,n,x,6,7'.split(',')\n",
    "for c in classes:\n",
    "    for filename in tqdm_notebook(os.listdir(f'../validacao/{c}')):\n",
    "        audioname = f'../validacao/{c}/{filename}'\n",
    "        y, sr = librosa.load(audioname, mono=True)\n",
    "        #Noise Reduction considering last part only noise\n",
    "        y = nr.reduce_noise(audio_clip=y,noise_clip=y[1750:],verbose=False)\n",
    "        #Getting normalization\n",
    "        y = librosa.util.normalize(y)\n",
    "        \n",
    "        #Chroma Frequencies\n",
    "        chroma_stft = librosa.feature.chroma_stft(y=y, sr=sr)\n",
    "        #print(chroma_stft)\n",
    "        #Chroma cqt\n",
    "        chroma_cqt = librosa.feature.chroma_cqt(y=y,sr=sr)\n",
    "        #Aplying nearest neighbour filtering\n",
    "        chroma_cqt = librosa.decompose.nn_filter(chroma_cqt,\n",
    "                                          aggregate=np.median,\n",
    "                                          metric='cosine')\n",
    "        #Spectral centroid\n",
    "        spec_cent = librosa.feature.spectral_centroid(y=y, sr=sr)\n",
    "        #Spectral Bandwidth\n",
    "        spec_bw = librosa.feature.spectral_bandwidth(y=y, sr=sr)\n",
    "        #Spectral roll-off\n",
    "        rolloff = librosa.feature.spectral_rolloff(y=y, sr=sr)\n",
    "        #Zero Crossing Rate\n",
    "        zcr = librosa.feature.zero_crossing_rate(y)\n",
    "        #Mel-frequency cepstral coefficients (MFCC)(20 in number)\n",
    "        mfcc = librosa.feature.mfcc(y=y, sr=sr)\n",
    "        #RMSE\n",
    "        rmse = librosa.feature.rms(y=y)\n",
    "        \n",
    "        to_append = f'{filename} {np.mean(chroma_stft)} {np.mean(chroma_cqt)} {np.mean(rmse)} \\\n",
    "        {np.mean(spec_cent)} {np.mean(spec_bw)} {np.mean(rolloff)} {np.mean(zcr)}'    \n",
    "        #Expandindo o Mel-frequency em 20 atributos\n",
    "        for e in mfcc:\n",
    "            to_append += f' {np.mean(e)}'\n",
    "        to_append += f' {c}'\n",
    "        file = open('data_validacao.csv', 'a', newline='')\n",
    "        with file:\n",
    "            writer = csv.writer(file)\n",
    "            writer.writerow(to_append.split())\n",
    "        #break;\n",
    "    print(f'class {c} extracted')"
   ]
  },
  {
   "cell_type": "markdown",
   "metadata": {},
   "source": [
    "### Viewing data table"
   ]
  },
  {
   "cell_type": "code",
   "execution_count": 130,
   "metadata": {},
   "outputs": [],
   "source": [
    "df_train = pd.read_csv('./data.csv',index_col=False)"
   ]
  },
  {
   "cell_type": "code",
   "execution_count": 131,
   "metadata": {},
   "outputs": [
    {
     "data": {
      "text/html": [
       "<div>\n",
       "<style scoped>\n",
       "    .dataframe tbody tr th:only-of-type {\n",
       "        vertical-align: middle;\n",
       "    }\n",
       "\n",
       "    .dataframe tbody tr th {\n",
       "        vertical-align: top;\n",
       "    }\n",
       "\n",
       "    .dataframe thead th {\n",
       "        text-align: right;\n",
       "    }\n",
       "</style>\n",
       "<table border=\"1\" class=\"dataframe\">\n",
       "  <thead>\n",
       "    <tr style=\"text-align: right;\">\n",
       "      <th>label</th>\n",
       "      <th>6</th>\n",
       "      <th>7</th>\n",
       "      <th>a</th>\n",
       "      <th>b</th>\n",
       "      <th>c</th>\n",
       "      <th>d</th>\n",
       "      <th>h</th>\n",
       "      <th>m</th>\n",
       "      <th>n</th>\n",
       "      <th>x</th>\n",
       "    </tr>\n",
       "  </thead>\n",
       "  <tbody>\n",
       "    <tr>\n",
       "      <td>filename</td>\n",
       "      <td>150</td>\n",
       "      <td>144</td>\n",
       "      <td>136</td>\n",
       "      <td>156</td>\n",
       "      <td>139</td>\n",
       "      <td>140</td>\n",
       "      <td>137</td>\n",
       "      <td>148</td>\n",
       "      <td>136</td>\n",
       "      <td>138</td>\n",
       "    </tr>\n",
       "  </tbody>\n",
       "</table>\n",
       "</div>"
      ],
      "text/plain": [
       "label       6    7    a    b    c    d    h    m    n    x\n",
       "filename  150  144  136  156  139  140  137  148  136  138"
      ]
     },
     "execution_count": 131,
     "metadata": {},
     "output_type": "execute_result"
    }
   ],
   "source": [
    "df_train[['filename','label']].groupby('label').agg({'filename':'nunique'}).transpose()"
   ]
  },
  {
   "cell_type": "code",
   "execution_count": 132,
   "metadata": {},
   "outputs": [],
   "source": [
    "# Dropping unneccesary columns\n",
    "df_train = df_train.drop(['filename'],axis=1)"
   ]
  },
  {
   "cell_type": "code",
   "execution_count": 133,
   "metadata": {},
   "outputs": [
    {
     "data": {
      "text/html": [
       "<div>\n",
       "<style scoped>\n",
       "    .dataframe tbody tr th:only-of-type {\n",
       "        vertical-align: middle;\n",
       "    }\n",
       "\n",
       "    .dataframe tbody tr th {\n",
       "        vertical-align: top;\n",
       "    }\n",
       "\n",
       "    .dataframe thead th {\n",
       "        text-align: right;\n",
       "    }\n",
       "</style>\n",
       "<table border=\"1\" class=\"dataframe\">\n",
       "  <thead>\n",
       "    <tr style=\"text-align: right;\">\n",
       "      <th></th>\n",
       "      <th>chroma_stft</th>\n",
       "      <th>chroma_cqt</th>\n",
       "      <th>rmse</th>\n",
       "      <th>spectral_centroid</th>\n",
       "      <th>spectral_bandwidth</th>\n",
       "      <th>rolloff</th>\n",
       "      <th>zero_crossing_rate</th>\n",
       "      <th>mfcc1</th>\n",
       "      <th>mfcc2</th>\n",
       "      <th>mfcc3</th>\n",
       "      <th>...</th>\n",
       "      <th>mfcc12</th>\n",
       "      <th>mfcc13</th>\n",
       "      <th>mfcc14</th>\n",
       "      <th>mfcc15</th>\n",
       "      <th>mfcc16</th>\n",
       "      <th>mfcc17</th>\n",
       "      <th>mfcc18</th>\n",
       "      <th>mfcc19</th>\n",
       "      <th>mfcc20</th>\n",
       "      <th>label</th>\n",
       "    </tr>\n",
       "  </thead>\n",
       "  <tbody>\n",
       "    <tr>\n",
       "      <td>0</td>\n",
       "      <td>0.675671</td>\n",
       "      <td>0.647213</td>\n",
       "      <td>0.032813</td>\n",
       "      <td>4821.223004</td>\n",
       "      <td>3107.956169</td>\n",
       "      <td>8621.356201</td>\n",
       "      <td>0.375621</td>\n",
       "      <td>-444.238464</td>\n",
       "      <td>5.471632</td>\n",
       "      <td>-3.602587</td>\n",
       "      <td>...</td>\n",
       "      <td>-3.270119</td>\n",
       "      <td>-1.364639</td>\n",
       "      <td>-5.236618</td>\n",
       "      <td>-1.162218</td>\n",
       "      <td>0.258107</td>\n",
       "      <td>1.074864</td>\n",
       "      <td>-4.096735</td>\n",
       "      <td>0.139661</td>\n",
       "      <td>0.766718</td>\n",
       "      <td>a</td>\n",
       "    </tr>\n",
       "    <tr>\n",
       "      <td>1</td>\n",
       "      <td>0.641985</td>\n",
       "      <td>0.500162</td>\n",
       "      <td>0.029933</td>\n",
       "      <td>4067.835660</td>\n",
       "      <td>3093.894222</td>\n",
       "      <td>7970.466198</td>\n",
       "      <td>0.181030</td>\n",
       "      <td>-408.187988</td>\n",
       "      <td>18.233671</td>\n",
       "      <td>-14.351518</td>\n",
       "      <td>...</td>\n",
       "      <td>-0.864581</td>\n",
       "      <td>4.463677</td>\n",
       "      <td>2.679159</td>\n",
       "      <td>-1.230786</td>\n",
       "      <td>3.159953</td>\n",
       "      <td>1.224929</td>\n",
       "      <td>3.162031</td>\n",
       "      <td>4.524626</td>\n",
       "      <td>7.771187</td>\n",
       "      <td>a</td>\n",
       "    </tr>\n",
       "    <tr>\n",
       "      <td>2</td>\n",
       "      <td>0.602044</td>\n",
       "      <td>0.538624</td>\n",
       "      <td>0.055689</td>\n",
       "      <td>3305.766121</td>\n",
       "      <td>3080.914858</td>\n",
       "      <td>7114.031982</td>\n",
       "      <td>0.076305</td>\n",
       "      <td>-317.936249</td>\n",
       "      <td>38.975246</td>\n",
       "      <td>-8.109751</td>\n",
       "      <td>...</td>\n",
       "      <td>4.871334</td>\n",
       "      <td>9.969668</td>\n",
       "      <td>7.766708</td>\n",
       "      <td>2.158794</td>\n",
       "      <td>3.121379</td>\n",
       "      <td>1.829411</td>\n",
       "      <td>0.203210</td>\n",
       "      <td>-1.256773</td>\n",
       "      <td>2.162389</td>\n",
       "      <td>a</td>\n",
       "    </tr>\n",
       "    <tr>\n",
       "      <td>3</td>\n",
       "      <td>0.688363</td>\n",
       "      <td>0.725112</td>\n",
       "      <td>0.043488</td>\n",
       "      <td>4474.397443</td>\n",
       "      <td>2813.544433</td>\n",
       "      <td>7717.940452</td>\n",
       "      <td>0.372015</td>\n",
       "      <td>-412.375702</td>\n",
       "      <td>14.527719</td>\n",
       "      <td>-27.293205</td>\n",
       "      <td>...</td>\n",
       "      <td>-6.767725</td>\n",
       "      <td>-1.758618</td>\n",
       "      <td>2.054795</td>\n",
       "      <td>-6.455077</td>\n",
       "      <td>-0.924525</td>\n",
       "      <td>-0.984750</td>\n",
       "      <td>-3.872282</td>\n",
       "      <td>-2.954205</td>\n",
       "      <td>-5.688318</td>\n",
       "      <td>a</td>\n",
       "    </tr>\n",
       "    <tr>\n",
       "      <td>4</td>\n",
       "      <td>0.724626</td>\n",
       "      <td>0.774140</td>\n",
       "      <td>0.033320</td>\n",
       "      <td>4744.066601</td>\n",
       "      <td>2837.276708</td>\n",
       "      <td>7999.584961</td>\n",
       "      <td>0.429821</td>\n",
       "      <td>-451.474396</td>\n",
       "      <td>15.617132</td>\n",
       "      <td>-26.280188</td>\n",
       "      <td>...</td>\n",
       "      <td>-7.761969</td>\n",
       "      <td>-0.970233</td>\n",
       "      <td>3.394795</td>\n",
       "      <td>-0.923246</td>\n",
       "      <td>-0.674110</td>\n",
       "      <td>-3.580620</td>\n",
       "      <td>0.614482</td>\n",
       "      <td>-2.337616</td>\n",
       "      <td>-3.857900</td>\n",
       "      <td>a</td>\n",
       "    </tr>\n",
       "  </tbody>\n",
       "</table>\n",
       "<p>5 rows × 28 columns</p>\n",
       "</div>"
      ],
      "text/plain": [
       "   chroma_stft  chroma_cqt      rmse  spectral_centroid  spectral_bandwidth  \\\n",
       "0     0.675671    0.647213  0.032813        4821.223004         3107.956169   \n",
       "1     0.641985    0.500162  0.029933        4067.835660         3093.894222   \n",
       "2     0.602044    0.538624  0.055689        3305.766121         3080.914858   \n",
       "3     0.688363    0.725112  0.043488        4474.397443         2813.544433   \n",
       "4     0.724626    0.774140  0.033320        4744.066601         2837.276708   \n",
       "\n",
       "       rolloff  zero_crossing_rate       mfcc1      mfcc2      mfcc3  ...  \\\n",
       "0  8621.356201            0.375621 -444.238464   5.471632  -3.602587  ...   \n",
       "1  7970.466198            0.181030 -408.187988  18.233671 -14.351518  ...   \n",
       "2  7114.031982            0.076305 -317.936249  38.975246  -8.109751  ...   \n",
       "3  7717.940452            0.372015 -412.375702  14.527719 -27.293205  ...   \n",
       "4  7999.584961            0.429821 -451.474396  15.617132 -26.280188  ...   \n",
       "\n",
       "     mfcc12    mfcc13    mfcc14    mfcc15    mfcc16    mfcc17    mfcc18  \\\n",
       "0 -3.270119 -1.364639 -5.236618 -1.162218  0.258107  1.074864 -4.096735   \n",
       "1 -0.864581  4.463677  2.679159 -1.230786  3.159953  1.224929  3.162031   \n",
       "2  4.871334  9.969668  7.766708  2.158794  3.121379  1.829411  0.203210   \n",
       "3 -6.767725 -1.758618  2.054795 -6.455077 -0.924525 -0.984750 -3.872282   \n",
       "4 -7.761969 -0.970233  3.394795 -0.923246 -0.674110 -3.580620  0.614482   \n",
       "\n",
       "     mfcc19    mfcc20  label  \n",
       "0  0.139661  0.766718      a  \n",
       "1  4.524626  7.771187      a  \n",
       "2 -1.256773  2.162389      a  \n",
       "3 -2.954205 -5.688318      a  \n",
       "4 -2.337616 -3.857900      a  \n",
       "\n",
       "[5 rows x 28 columns]"
      ]
     },
     "execution_count": 133,
     "metadata": {},
     "output_type": "execute_result"
    }
   ],
   "source": [
    "df_train.head()"
   ]
  },
  {
   "cell_type": "markdown",
   "metadata": {},
   "source": [
    "#### Validation set"
   ]
  },
  {
   "cell_type": "code",
   "execution_count": 134,
   "metadata": {},
   "outputs": [],
   "source": [
    "df_valid = pd.read_csv('data_validacao.csv',index_col=False)"
   ]
  },
  {
   "cell_type": "code",
   "execution_count": 135,
   "metadata": {},
   "outputs": [
    {
     "data": {
      "text/html": [
       "<div>\n",
       "<style scoped>\n",
       "    .dataframe tbody tr th:only-of-type {\n",
       "        vertical-align: middle;\n",
       "    }\n",
       "\n",
       "    .dataframe tbody tr th {\n",
       "        vertical-align: top;\n",
       "    }\n",
       "\n",
       "    .dataframe thead th {\n",
       "        text-align: right;\n",
       "    }\n",
       "</style>\n",
       "<table border=\"1\" class=\"dataframe\">\n",
       "  <thead>\n",
       "    <tr style=\"text-align: right;\">\n",
       "      <th>label</th>\n",
       "      <th>6</th>\n",
       "      <th>7</th>\n",
       "      <th>a</th>\n",
       "      <th>b</th>\n",
       "      <th>c</th>\n",
       "      <th>d</th>\n",
       "      <th>h</th>\n",
       "      <th>m</th>\n",
       "      <th>n</th>\n",
       "      <th>x</th>\n",
       "    </tr>\n",
       "  </thead>\n",
       "  <tbody>\n",
       "    <tr>\n",
       "      <td>filename</td>\n",
       "      <td>100</td>\n",
       "      <td>114</td>\n",
       "      <td>97</td>\n",
       "      <td>106</td>\n",
       "      <td>107</td>\n",
       "      <td>110</td>\n",
       "      <td>122</td>\n",
       "      <td>104</td>\n",
       "      <td>113</td>\n",
       "      <td>95</td>\n",
       "    </tr>\n",
       "  </tbody>\n",
       "</table>\n",
       "</div>"
      ],
      "text/plain": [
       "label       6    7   a    b    c    d    h    m    n   x\n",
       "filename  100  114  97  106  107  110  122  104  113  95"
      ]
     },
     "execution_count": 135,
     "metadata": {},
     "output_type": "execute_result"
    }
   ],
   "source": [
    "df_valid[['filename','label']].groupby('label').agg({'filename':'nunique'}).transpose()"
   ]
  },
  {
   "cell_type": "code",
   "execution_count": 136,
   "metadata": {},
   "outputs": [
    {
     "data": {
      "text/html": [
       "<div>\n",
       "<style scoped>\n",
       "    .dataframe tbody tr th:only-of-type {\n",
       "        vertical-align: middle;\n",
       "    }\n",
       "\n",
       "    .dataframe tbody tr th {\n",
       "        vertical-align: top;\n",
       "    }\n",
       "\n",
       "    .dataframe thead th {\n",
       "        text-align: right;\n",
       "    }\n",
       "</style>\n",
       "<table border=\"1\" class=\"dataframe\">\n",
       "  <thead>\n",
       "    <tr style=\"text-align: right;\">\n",
       "      <th></th>\n",
       "      <th>filename</th>\n",
       "      <th>chroma_stft</th>\n",
       "      <th>chroma_cqt</th>\n",
       "      <th>rmse</th>\n",
       "      <th>spectral_centroid</th>\n",
       "      <th>spectral_bandwidth</th>\n",
       "      <th>rolloff</th>\n",
       "      <th>zero_crossing_rate</th>\n",
       "      <th>mfcc1</th>\n",
       "      <th>mfcc2</th>\n",
       "      <th>...</th>\n",
       "      <th>mfcc12</th>\n",
       "      <th>mfcc13</th>\n",
       "      <th>mfcc14</th>\n",
       "      <th>mfcc15</th>\n",
       "      <th>mfcc16</th>\n",
       "      <th>mfcc17</th>\n",
       "      <th>mfcc18</th>\n",
       "      <th>mfcc19</th>\n",
       "      <th>mfcc20</th>\n",
       "      <th>label</th>\n",
       "    </tr>\n",
       "  </thead>\n",
       "  <tbody>\n",
       "    <tr>\n",
       "      <td>0</td>\n",
       "      <td>0_2.wav</td>\n",
       "      <td>0.636410</td>\n",
       "      <td>0.688607</td>\n",
       "      <td>0.038072</td>\n",
       "      <td>4757.864517</td>\n",
       "      <td>3104.252364</td>\n",
       "      <td>8570.948930</td>\n",
       "      <td>0.377597</td>\n",
       "      <td>-410.837128</td>\n",
       "      <td>12.849179</td>\n",
       "      <td>...</td>\n",
       "      <td>-3.830682</td>\n",
       "      <td>-5.041546</td>\n",
       "      <td>-4.027266</td>\n",
       "      <td>0.454790</td>\n",
       "      <td>-2.548360</td>\n",
       "      <td>0.202837</td>\n",
       "      <td>-2.003998</td>\n",
       "      <td>2.119814</td>\n",
       "      <td>-2.181247</td>\n",
       "      <td>a</td>\n",
       "    </tr>\n",
       "    <tr>\n",
       "      <td>1</td>\n",
       "      <td>100_2.wav</td>\n",
       "      <td>0.676662</td>\n",
       "      <td>0.726903</td>\n",
       "      <td>0.037071</td>\n",
       "      <td>4648.435031</td>\n",
       "      <td>2836.705698</td>\n",
       "      <td>7990.775923</td>\n",
       "      <td>0.389748</td>\n",
       "      <td>-413.813568</td>\n",
       "      <td>11.431908</td>\n",
       "      <td>...</td>\n",
       "      <td>-7.436007</td>\n",
       "      <td>-5.223232</td>\n",
       "      <td>3.089223</td>\n",
       "      <td>-3.980870</td>\n",
       "      <td>-3.635240</td>\n",
       "      <td>-1.599144</td>\n",
       "      <td>-5.697144</td>\n",
       "      <td>-1.842590</td>\n",
       "      <td>-6.677016</td>\n",
       "      <td>a</td>\n",
       "    </tr>\n",
       "    <tr>\n",
       "      <td>2</td>\n",
       "      <td>103_3.wav</td>\n",
       "      <td>0.727146</td>\n",
       "      <td>0.750634</td>\n",
       "      <td>0.029006</td>\n",
       "      <td>4657.692440</td>\n",
       "      <td>2862.103998</td>\n",
       "      <td>7958.476119</td>\n",
       "      <td>0.398904</td>\n",
       "      <td>-460.136688</td>\n",
       "      <td>19.533348</td>\n",
       "      <td>...</td>\n",
       "      <td>0.665169</td>\n",
       "      <td>-5.803110</td>\n",
       "      <td>-0.399271</td>\n",
       "      <td>-3.237993</td>\n",
       "      <td>-2.871144</td>\n",
       "      <td>-1.405074</td>\n",
       "      <td>-4.685062</td>\n",
       "      <td>-1.723701</td>\n",
       "      <td>-1.392978</td>\n",
       "      <td>a</td>\n",
       "    </tr>\n",
       "    <tr>\n",
       "      <td>3</td>\n",
       "      <td>109_2.wav</td>\n",
       "      <td>0.678865</td>\n",
       "      <td>0.709338</td>\n",
       "      <td>0.038591</td>\n",
       "      <td>4518.541087</td>\n",
       "      <td>2943.170322</td>\n",
       "      <td>7975.604803</td>\n",
       "      <td>0.324707</td>\n",
       "      <td>-427.580872</td>\n",
       "      <td>17.221386</td>\n",
       "      <td>...</td>\n",
       "      <td>4.099208</td>\n",
       "      <td>-0.110211</td>\n",
       "      <td>2.013321</td>\n",
       "      <td>5.547618</td>\n",
       "      <td>-1.290525</td>\n",
       "      <td>-0.715101</td>\n",
       "      <td>4.058755</td>\n",
       "      <td>-1.576543</td>\n",
       "      <td>1.469256</td>\n",
       "      <td>a</td>\n",
       "    </tr>\n",
       "    <tr>\n",
       "      <td>4</td>\n",
       "      <td>111_3.wav</td>\n",
       "      <td>0.717908</td>\n",
       "      <td>0.731944</td>\n",
       "      <td>0.022853</td>\n",
       "      <td>4971.807645</td>\n",
       "      <td>2986.479022</td>\n",
       "      <td>8599.333607</td>\n",
       "      <td>0.437300</td>\n",
       "      <td>-465.178986</td>\n",
       "      <td>3.521953</td>\n",
       "      <td>...</td>\n",
       "      <td>-0.526120</td>\n",
       "      <td>-0.543649</td>\n",
       "      <td>4.449535</td>\n",
       "      <td>-5.480139</td>\n",
       "      <td>-1.205450</td>\n",
       "      <td>-0.102981</td>\n",
       "      <td>1.144526</td>\n",
       "      <td>-1.113658</td>\n",
       "      <td>-3.192991</td>\n",
       "      <td>a</td>\n",
       "    </tr>\n",
       "  </tbody>\n",
       "</table>\n",
       "<p>5 rows × 29 columns</p>\n",
       "</div>"
      ],
      "text/plain": [
       "    filename  chroma_stft  chroma_cqt      rmse  spectral_centroid  \\\n",
       "0    0_2.wav     0.636410    0.688607  0.038072        4757.864517   \n",
       "1  100_2.wav     0.676662    0.726903  0.037071        4648.435031   \n",
       "2  103_3.wav     0.727146    0.750634  0.029006        4657.692440   \n",
       "3  109_2.wav     0.678865    0.709338  0.038591        4518.541087   \n",
       "4  111_3.wav     0.717908    0.731944  0.022853        4971.807645   \n",
       "\n",
       "   spectral_bandwidth      rolloff  zero_crossing_rate       mfcc1      mfcc2  \\\n",
       "0         3104.252364  8570.948930            0.377597 -410.837128  12.849179   \n",
       "1         2836.705698  7990.775923            0.389748 -413.813568  11.431908   \n",
       "2         2862.103998  7958.476119            0.398904 -460.136688  19.533348   \n",
       "3         2943.170322  7975.604803            0.324707 -427.580872  17.221386   \n",
       "4         2986.479022  8599.333607            0.437300 -465.178986   3.521953   \n",
       "\n",
       "   ...    mfcc12    mfcc13    mfcc14    mfcc15    mfcc16    mfcc17    mfcc18  \\\n",
       "0  ... -3.830682 -5.041546 -4.027266  0.454790 -2.548360  0.202837 -2.003998   \n",
       "1  ... -7.436007 -5.223232  3.089223 -3.980870 -3.635240 -1.599144 -5.697144   \n",
       "2  ...  0.665169 -5.803110 -0.399271 -3.237993 -2.871144 -1.405074 -4.685062   \n",
       "3  ...  4.099208 -0.110211  2.013321  5.547618 -1.290525 -0.715101  4.058755   \n",
       "4  ... -0.526120 -0.543649  4.449535 -5.480139 -1.205450 -0.102981  1.144526   \n",
       "\n",
       "     mfcc19    mfcc20  label  \n",
       "0  2.119814 -2.181247      a  \n",
       "1 -1.842590 -6.677016      a  \n",
       "2 -1.723701 -1.392978      a  \n",
       "3 -1.576543  1.469256      a  \n",
       "4 -1.113658 -3.192991      a  \n",
       "\n",
       "[5 rows x 29 columns]"
      ]
     },
     "execution_count": 136,
     "metadata": {},
     "output_type": "execute_result"
    }
   ],
   "source": [
    "df_valid.head()"
   ]
  },
  {
   "cell_type": "code",
   "execution_count": 137,
   "metadata": {},
   "outputs": [],
   "source": [
    "df_valid = df_valid.drop('filename',axis=1)"
   ]
  },
  {
   "cell_type": "markdown",
   "metadata": {},
   "source": [
    "### Encoding labels"
   ]
  },
  {
   "cell_type": "code",
   "execution_count": 138,
   "metadata": {},
   "outputs": [],
   "source": [
    "class_list = df_train.iloc[:, -1]\n",
    "encoder = LabelEncoder()\n",
    "encoder.fit(class_list)\n",
    "y_train = encoder.transform(class_list)\n",
    "y_valid = encoder.transform(df_valid.iloc[:,-1])"
   ]
  },
  {
   "cell_type": "markdown",
   "metadata": {},
   "source": [
    "## Scailing all features"
   ]
  },
  {
   "cell_type": "code",
   "execution_count": 139,
   "metadata": {},
   "outputs": [],
   "source": [
    "scaler = StandardScaler()\n",
    "df = df_train.append(df_valid,ignore_index=True)\n",
    "scaler.fit(np.array(df.iloc[:, :-1], dtype = float))\n",
    "X_train = scaler.transform(np.array(df_train.iloc[:, :-1], dtype = float))\n",
    "X_valid = scaler.transform(np.array(df_valid.iloc[:, :-1], dtype = float))"
   ]
  },
  {
   "cell_type": "markdown",
   "metadata": {},
   "source": [
    "### Just to get First signal, let's try using a Decision Tree and NaiveBayes"
   ]
  },
  {
   "cell_type": "code",
   "execution_count": 140,
   "metadata": {},
   "outputs": [],
   "source": [
    "Classifier = DecisionTreeClassifier(criterion='entropy')\n",
    "Classifier2 = GaussianNB()"
   ]
  },
  {
   "cell_type": "code",
   "execution_count": 141,
   "metadata": {},
   "outputs": [
    {
     "name": "stdout",
     "output_type": "stream",
     "text": [
      "<bound method BaseEstimator.get_params of DecisionTreeClassifier(class_weight=None, criterion='entropy', max_depth=None,\n",
      "                       max_features=None, max_leaf_nodes=None,\n",
      "                       min_impurity_decrease=0.0, min_impurity_split=None,\n",
      "                       min_samples_leaf=1, min_samples_split=2,\n",
      "                       min_weight_fraction_leaf=0.0, presort=False,\n",
      "                       random_state=None, splitter='best')>\n",
      "<bound method BaseEstimator.get_params of GaussianNB(priors=None, var_smoothing=1e-09)>\n"
     ]
    }
   ],
   "source": [
    "Classifier.fit(X_train,y_train)\n",
    "Classifier2.fit(X_train,y_train)\n",
    "print(Classifier.get_params)\n",
    "print(Classifier2.get_params)"
   ]
  },
  {
   "cell_type": "code",
   "execution_count": 142,
   "metadata": {},
   "outputs": [
    {
     "name": "stdout",
     "output_type": "stream",
     "text": [
      "Decision Tree: 0.4887640449438202\n",
      "Bayes: 0.47659176029962547\n"
     ]
    }
   ],
   "source": [
    "print('Decision Tree:',Classifier.score(X_valid,y_valid))\n",
    "print('Bayes:',Classifier2.score(X_valid,y_valid))"
   ]
  },
  {
   "cell_type": "markdown",
   "metadata": {},
   "source": [
    "##### *Note: 48% acurácia é um sinal fraco, porém não foi feito um data prep muito extensivo"
   ]
  },
  {
   "cell_type": "markdown",
   "metadata": {},
   "source": [
    "### Utilizando Random Forest"
   ]
  },
  {
   "cell_type": "markdown",
   "metadata": {},
   "source": [
    "###### Grid"
   ]
  },
  {
   "cell_type": "code",
   "execution_count": 103,
   "metadata": {},
   "outputs": [],
   "source": [
    "n_estimators = [int(x) for x in np.linspace(start = 200, stop = 2000, num = 10)]\n",
    "\n",
    "# Maximum number of levels in tree\n",
    "max_depth = [int(x) for x in np.linspace(10, 110, num = 11)]\n",
    "max_depth.append(None)\n",
    "\n",
    "# Minimum number of samples required to split a node\n",
    "min_samples_split = [2, 5, 10]\n",
    "\n",
    "# Method of selecting samples for training each tree\n",
    "bootstrap = [True, False]# Create the random grid\n",
    "\n",
    "random_grid = {'n_estimators': n_estimators,\n",
    "               'max_depth': max_depth,\n",
    "               'min_samples_split': min_samples_split,\n",
    "               'bootstrap': bootstrap}"
   ]
  },
  {
   "cell_type": "markdown",
   "metadata": {},
   "source": [
    "#### Train grid"
   ]
  },
  {
   "cell_type": "code",
   "execution_count": 105,
   "metadata": {},
   "outputs": [
    {
     "data": {
      "text/plain": [
       "RandomizedSearchCV(cv='warn', error_score='raise-deprecating',\n",
       "                   estimator=RandomForestClassifier(bootstrap=True,\n",
       "                                                    class_weight=None,\n",
       "                                                    criterion='gini',\n",
       "                                                    max_depth=None,\n",
       "                                                    max_features='auto',\n",
       "                                                    max_leaf_nodes=None,\n",
       "                                                    min_impurity_decrease=0.0,\n",
       "                                                    min_impurity_split=None,\n",
       "                                                    min_samples_leaf=1,\n",
       "                                                    min_samples_split=2,\n",
       "                                                    min_weight_fraction_leaf=0.0,\n",
       "                                                    n_estimators='warn',\n",
       "                                                    n_jobs=None,\n",
       "                                                    o...\n",
       "                                                    verbose=0,\n",
       "                                                    warm_start=False),\n",
       "                   iid='warn', n_iter=500, n_jobs=-1,\n",
       "                   param_distributions={'bootstrap': [True, False],\n",
       "                                        'max_depth': [10, 20, 30, 40, 50, 60,\n",
       "                                                      70, 80, 90, 100, 110,\n",
       "                                                      None],\n",
       "                                        'min_samples_split': [2, 5, 10],\n",
       "                                        'n_estimators': [200, 400, 600, 800,\n",
       "                                                         1000, 1200, 1400, 1600,\n",
       "                                                         1800, 2000]},\n",
       "                   pre_dispatch='2*n_jobs', random_state=42, refit=True,\n",
       "                   return_train_score=False, scoring=None, verbose=0)"
      ]
     },
     "execution_count": 105,
     "metadata": {},
     "output_type": "execute_result"
    }
   ],
   "source": [
    "# Use the random grid to search for best hyperparameters\n",
    "rf = RandomForestClassifier()\n",
    "\n",
    "# Random search of parameters, using 3 fold cross validation, \n",
    "# search across 100 different combinations, and use all available cores\n",
    "rf_random = RandomizedSearchCV(\n",
    "    estimator = rf,\n",
    "    param_distributions = random_grid,\n",
    "    n_iter = 500,\n",
    "    random_state=42,\n",
    "    n_jobs = -1)# Fit the random search model\n",
    "\n",
    "rf_random.fit(X_train, y_train)"
   ]
  },
  {
   "cell_type": "code",
   "execution_count": 106,
   "metadata": {},
   "outputs": [
    {
     "name": "stdout",
     "output_type": "stream",
     "text": [
      "0.65%\n"
     ]
    }
   ],
   "source": [
    "best_random = rf_random.best_estimator_\n",
    "predictions = best_random.predict(X_valid)\n",
    "acc = best_random.score(X_valid,y_valid)\n",
    "print('{:0.2f}%'.format(acc))"
   ]
  },
  {
   "cell_type": "code",
   "execution_count": 107,
   "metadata": {},
   "outputs": [
    {
     "data": {
      "text/plain": [
       "<bound method BaseEstimator.get_params of RandomForestClassifier(bootstrap=False, class_weight=None, criterion='gini',\n",
       "                       max_depth=110, max_features='auto', max_leaf_nodes=None,\n",
       "                       min_impurity_decrease=0.0, min_impurity_split=None,\n",
       "                       min_samples_leaf=1, min_samples_split=2,\n",
       "                       min_weight_fraction_leaf=0.0, n_estimators=600,\n",
       "                       n_jobs=None, oob_score=False, random_state=None,\n",
       "                       verbose=0, warm_start=False)>"
      ]
     },
     "execution_count": 107,
     "metadata": {},
     "output_type": "execute_result"
    }
   ],
   "source": [
    "best_random.get_params"
   ]
  },
  {
   "cell_type": "markdown",
   "metadata": {},
   "source": [
    "# SVM Classifier"
   ]
  },
  {
   "cell_type": "markdown",
   "metadata": {},
   "source": [
    "#### Kernel linear, como os parametros na maioria são ignorados por este kernel, aplicação direta"
   ]
  },
  {
   "cell_type": "code",
   "execution_count": 163,
   "metadata": {},
   "outputs": [],
   "source": [
    "SVClassifier = svm.SVC(kernel='linear')"
   ]
  },
  {
   "cell_type": "code",
   "execution_count": 164,
   "metadata": {},
   "outputs": [
    {
     "data": {
      "text/plain": [
       "SVC(C=1.0, cache_size=200, class_weight=None, coef0=0.0,\n",
       "    decision_function_shape='ovr', degree=3, gamma='auto_deprecated',\n",
       "    kernel='linear', max_iter=-1, probability=False, random_state=None,\n",
       "    shrinking=True, tol=0.001, verbose=False)"
      ]
     },
     "execution_count": 164,
     "metadata": {},
     "output_type": "execute_result"
    }
   ],
   "source": [
    "SVClassifier.fit(X_train,y_train)"
   ]
  },
  {
   "cell_type": "code",
   "execution_count": 165,
   "metadata": {},
   "outputs": [
    {
     "data": {
      "text/plain": [
       "0.653558052434457"
      ]
     },
     "execution_count": 165,
     "metadata": {},
     "output_type": "execute_result"
    }
   ],
   "source": [
    "SVClassifier.score(X_valid,y_valid)"
   ]
  },
  {
   "cell_type": "markdown",
   "metadata": {},
   "source": [
    "#### Kernel RBF"
   ]
  },
  {
   "cell_type": "markdown",
   "metadata": {},
   "source": [
    "##### grid"
   ]
  },
  {
   "cell_type": "code",
   "execution_count": 145,
   "metadata": {},
   "outputs": [],
   "source": [
    "Cs = np.arange(0.5,100,0.5)\n",
    "gammas = [0.001, 0.01, 0.1, 1]\n",
    "\n",
    "param_grid = {'C':Cs,'gamma':gammas}"
   ]
  },
  {
   "cell_type": "code",
   "execution_count": 146,
   "metadata": {},
   "outputs": [
    {
     "data": {
      "text/plain": [
       "GridSearchCV(cv='warn', error_score='raise-deprecating',\n",
       "             estimator=SVC(C=1.0, cache_size=200, class_weight=None, coef0=0.0,\n",
       "                           decision_function_shape='ovr', degree=3,\n",
       "                           gamma='auto_deprecated', kernel='rbf', max_iter=-1,\n",
       "                           probability=False, random_state=None, shrinking=True,\n",
       "                           tol=0.001, verbose=False),\n",
       "             iid='warn', n_jobs=None,\n",
       "             param_grid={'C': array([ 0.5,  1. ,  1.5,  2. ,  2.5,  3. ,  3...\n",
       "       72. , 72.5, 73. , 73.5, 74. , 74.5, 75. , 75.5, 76. , 76.5, 77. ,\n",
       "       77.5, 78. , 78.5, 79. , 79.5, 80. , 80.5, 81. , 81.5, 82. , 82.5,\n",
       "       83. , 83.5, 84. , 84.5, 85. , 85.5, 86. , 86.5, 87. , 87.5, 88. ,\n",
       "       88.5, 89. , 89.5, 90. , 90.5, 91. , 91.5, 92. , 92.5, 93. , 93.5,\n",
       "       94. , 94.5, 95. , 95.5, 96. , 96.5, 97. , 97.5, 98. , 98.5, 99. ,\n",
       "       99.5]),\n",
       "                         'gamma': [0.001, 0.01, 0.1, 1]},\n",
       "             pre_dispatch='2*n_jobs', refit=True, return_train_score=False,\n",
       "             scoring=None, verbose=0)"
      ]
     },
     "execution_count": 146,
     "metadata": {},
     "output_type": "execute_result"
    }
   ],
   "source": [
    "grid_search = GridSearchCV(svm.SVC(kernel='rbf'),param_grid)\n",
    "grid_search.fit(X_train,y_train)"
   ]
  },
  {
   "cell_type": "code",
   "execution_count": 147,
   "metadata": {},
   "outputs": [
    {
     "data": {
      "text/plain": [
       "{'C': 3.0, 'gamma': 0.1}"
      ]
     },
     "execution_count": 147,
     "metadata": {},
     "output_type": "execute_result"
    }
   ],
   "source": [
    "grid_search.best_params_"
   ]
  },
  {
   "cell_type": "code",
   "execution_count": 148,
   "metadata": {},
   "outputs": [],
   "source": [
    "SVCrbf = grid_search.best_estimator_"
   ]
  },
  {
   "cell_type": "code",
   "execution_count": 149,
   "metadata": {},
   "outputs": [
    {
     "data": {
      "text/plain": [
       "0.7303370786516854"
      ]
     },
     "execution_count": 149,
     "metadata": {},
     "output_type": "execute_result"
    }
   ],
   "source": [
    "SVCrbf.score(X_valid,y_valid)"
   ]
  },
  {
   "cell_type": "code",
   "execution_count": 150,
   "metadata": {},
   "outputs": [
    {
     "data": {
      "text/plain": [
       "['../models/svcrbf_2.pkl']"
      ]
     },
     "execution_count": 150,
     "metadata": {},
     "output_type": "execute_result"
    }
   ],
   "source": [
    "joblib.dump(SVCrbf, '../models/svcrbf_2.pkl') "
   ]
  },
  {
   "cell_type": "code",
   "execution_count": 151,
   "metadata": {},
   "outputs": [
    {
     "data": {
      "text/plain": [
       "['../models/scaler_2.pkl']"
      ]
     },
     "execution_count": 151,
     "metadata": {},
     "output_type": "execute_result"
    }
   ],
   "source": [
    "joblib.dump(StandardScaler,'../models/scaler_2.pkl')"
   ]
  },
  {
   "cell_type": "markdown",
   "metadata": {},
   "source": [
    "### Last but no least, Gradient Boosting"
   ]
  },
  {
   "cell_type": "code",
   "execution_count": 69,
   "metadata": {},
   "outputs": [],
   "source": [
    "gboost = GradientBoostingClassifier()"
   ]
  },
  {
   "cell_type": "code",
   "execution_count": 70,
   "metadata": {},
   "outputs": [],
   "source": [
    "n_estimators = [int(x) for x in np.linspace(start = 200, stop = 2000, num = 10)]\n",
    "\n",
    "# Maximum number of levels in tree\n",
    "max_depth = [int(x) for x in np.linspace(10, 110, num = 11)]\n",
    "max_depth.append(None)\n",
    "\n",
    "# Minimum number of samples required to split a node\n",
    "min_samples_split = [2, 5, 10]\n",
    "\n",
    "\n",
    "random_grid = {'n_estimators': n_estimators,\n",
    "               'max_depth': max_depth,\n",
    "               'min_samples_split': min_samples_split}"
   ]
  },
  {
   "cell_type": "code",
   "execution_count": 71,
   "metadata": {},
   "outputs": [
    {
     "data": {
      "text/plain": [
       "RandomizedSearchCV(cv='warn', error_score='raise-deprecating',\n",
       "                   estimator=GradientBoostingClassifier(criterion='friedman_mse',\n",
       "                                                        init=None,\n",
       "                                                        learning_rate=0.1,\n",
       "                                                        loss='deviance',\n",
       "                                                        max_depth=3,\n",
       "                                                        max_features=None,\n",
       "                                                        max_leaf_nodes=None,\n",
       "                                                        min_impurity_decrease=0.0,\n",
       "                                                        min_impurity_split=None,\n",
       "                                                        min_samples_leaf=1,\n",
       "                                                        min_samples_split=2,\n",
       "                                                        min_weight_fraction_leaf=0.0,\n",
       "                                                        n_estimators=10...\n",
       "                                                        presort='auto',\n",
       "                                                        random_state=None,\n",
       "                                                        subsample=1.0,\n",
       "                                                        tol=0.0001,\n",
       "                                                        validation_fraction=0.1,\n",
       "                                                        verbose=0,\n",
       "                                                        warm_start=False),\n",
       "                   iid='warn', n_iter=500, n_jobs=-1,\n",
       "                   param_distributions={'learning_rate': [0.001, 0.01, 0.1],\n",
       "                                        'n_estimators': [200, 400, 600, 800,\n",
       "                                                         1000, 1200, 1400, 1600,\n",
       "                                                         1800, 2000]},\n",
       "                   pre_dispatch='2*n_jobs', random_state=42, refit=True,\n",
       "                   return_train_score=False, scoring=None, verbose=0)"
      ]
     },
     "execution_count": 71,
     "metadata": {},
     "output_type": "execute_result"
    }
   ],
   "source": [
    "# Random search of parameters, using 3 fold cross validation, \n",
    "# search across 100 different combinations, and use all available cores\n",
    "ada_random = RandomizedSearchCV(\n",
    "    estimator = gboost,\n",
    "    param_distributions = search_grid,\n",
    "    n_iter = 500,\n",
    "    random_state=42,\n",
    "    n_jobs = -1)# Fit the random search model\n",
    "\n",
    "ada_random.fit(X_train, y_train)"
   ]
  },
  {
   "cell_type": "code",
   "execution_count": 72,
   "metadata": {},
   "outputs": [],
   "source": [
    "gboost_model = ada_random.best_estimator_"
   ]
  },
  {
   "cell_type": "code",
   "execution_count": 73,
   "metadata": {},
   "outputs": [
    {
     "data": {
      "text/plain": [
       "0.6012931034482759"
      ]
     },
     "execution_count": 73,
     "metadata": {},
     "output_type": "execute_result"
    }
   ],
   "source": [
    "gboost_model.score(X_valid,y_valid)"
   ]
  },
  {
   "cell_type": "code",
   "execution_count": null,
   "metadata": {},
   "outputs": [],
   "source": []
  },
  {
   "cell_type": "markdown",
   "metadata": {},
   "source": [
    "### Vamos tentar visualizar os dados com o PCA"
   ]
  },
  {
   "cell_type": "code",
   "execution_count": 56,
   "metadata": {},
   "outputs": [],
   "source": [
    "pca = PCA()"
   ]
  },
  {
   "cell_type": "code",
   "execution_count": 57,
   "metadata": {},
   "outputs": [
    {
     "data": {
      "text/plain": [
       "PCA(copy=True, iterated_power='auto', n_components=None, random_state=None,\n",
       "    svd_solver='auto', tol=0.0, whiten=False)"
      ]
     },
     "execution_count": 57,
     "metadata": {},
     "output_type": "execute_result"
    }
   ],
   "source": [
    "pca.fit(X_train)"
   ]
  },
  {
   "cell_type": "code",
   "execution_count": 58,
   "metadata": {},
   "outputs": [
    {
     "name": "stdout",
     "output_type": "stream",
     "text": [
      "1 : 0.37593866818600113\n",
      "2 : 0.4949424579158213\n",
      "3 : 0.5896303039077679\n",
      "4 : 0.6594505857644348\n",
      "5 : 0.7108181010533734\n",
      "6 : 0.7467991007191603\n",
      "7 : 0.7791613830598221\n",
      "8 : 0.8031628199780116\n",
      "9 : 0.8246473881708486\n",
      "10 : 0.844574089627187\n",
      "11 : 0.8629004408565969\n",
      "12 : 0.8809773937219655\n",
      "13 : 0.8969084121125068\n"
     ]
    }
   ],
   "source": [
    "for i,t in enumerate(pca.explained_variance_ratio_.cumsum()):\n",
    "    if(t<0.9):\n",
    "        print(i+1,':',t)"
   ]
  },
  {
   "cell_type": "code",
   "execution_count": 55,
   "metadata": {},
   "outputs": [
    {
     "name": "stdout",
     "output_type": "stream",
     "text": [
      "O indicador é de que o PCA não é muito representativo, porém foi plotado a carater de exploração\n"
     ]
    },
    {
     "data": {
      "text/plain": [
       "<matplotlib.collections.PathCollection at 0x29c055a4408>"
      ]
     },
     "execution_count": 55,
     "metadata": {},
     "output_type": "execute_result"
    },
    {
     "data": {
      "image/png": "[encoded data removed]",
      "text/plain": [
       "<Figure size 432x288 with 1 Axes>"
      ]
     },
     "metadata": {
      "needs_background": "light"
     },
     "output_type": "display_data"
    }
   ],
   "source": [
    "transf = pca.transform(X_train)\n",
    "print('O indicador é de que o PCA não é muito representativo, porém foi plotado a carater de exploração')\n",
    "eixo_x = []\n",
    "eixo_y = []\n",
    "for t in transf:\n",
    "    eixo_x.append(t[0])\n",
    "    eixo_y.append(t[1])\n",
    "plt.scatter(eixo_x,eixo_y)"
   ]
  },
  {
   "cell_type": "code",
   "execution_count": null,
   "metadata": {},
   "outputs": [],
   "source": []
  }
 ],
 "metadata": {
  "kernelspec": {
   "display_name": "Python 3",
   "language": "python",
   "name": "python3"
  },
  "language_info": {
   "codemirror_mode": {
    "name": "ipython",
    "version": 3
   },
   "file_extension": ".py",
   "mimetype": "text/x-python",
   "name": "python",
   "nbconvert_exporter": "python",
   "pygments_lexer": "ipython3",
   "version": "3.7.4"
  }
 },
 "nbformat": 4,
 "nbformat_minor": 2
}
