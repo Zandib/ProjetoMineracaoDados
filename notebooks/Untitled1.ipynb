{
 "cells": [
  {
   "cell_type": "code",
   "execution_count": null,
   "metadata": {},
   "outputs": [],
   "source": [
    "# -*- coding: utf-8 -*-\n",
    "\"\"\"\n",
    "@author: dib_n\n",
    "\"\"\"\n",
    "#################################################################\n",
    "#Imports\n",
    "#################################################################\n",
    "import pandas as pd\n",
    "import numpy as np\n",
    "\n",
    "# Preprocessing\n",
    "from sklearn.preprocessing import LabelEncoder, StandardScaler\n",
    "\n",
    "#Learning\n",
    "from sklearn import svm\n",
    "\n",
    "#SearchGrid\n",
    "from sklearn.model_selection import GridSearchCV\n",
    "\n",
    "#Saving\n",
    "from sklearn.externals import joblib\n",
    "\n",
    "#################################################################\n",
    "#Loading Models\n",
    "#################################################################\n",
    "encoder = joblib.load('../models/encoder.pkl')\n",
    "scaler = joblib.load('../models/scaler.pkl')\n",
    "models ={}\n",
    "for target in ['geral', 'a', 'b', 'c', 'd', 'h', 'm', 'n', 'x', '6', '7']:\n",
    "    if(target=='geral'):\n",
    "        models[target]=joblib.load('../models/SVCrbf.pkl')\n",
    "    else:\n",
    "        models[target]=joblib.load('../models/SVCrbf_'+target+'.pkl')\n",
    "\n",
    "#################################################################\n",
    "#To Stack multiple models, an heuristic will be used\n",
    "#Heuristica:\n",
    "class Voter():\n",
    "    def __init__(self,models,targets,encoder):\n",
    "        self.targets=targets\n",
    "        self.models=models\n",
    "        self.encoder = encoder\n",
    "    \n",
    "    def check_line(self,x):\n",
    "        x=x.copy()\n",
    "        #print(x)\n",
    "        x_temp = x.drop('geral')\n",
    "        if(x_temp.sum()==1):\n",
    "            for i,t in zip(x_temp.index,x_temp):\n",
    "                #print(i)\n",
    "                if(t==1):\n",
    "                    return i\n",
    "        else:\n",
    "            return x['geral']\n",
    "        \n",
    "    def Score(self,X,y):\n",
    "        predicts = pd.Series(self.predict(X))\n",
    "        return (predicts==y).value_counts()[True]/len(y)\n",
    "    \n",
    "    def predict(self,X):\n",
    "        df_predicoes = pd.DataFrame(columns=self.targets)\n",
    "        for t in targets:\n",
    "            df_predicoes[t]=self.models[t].predict(X)\n",
    "        df_predicoes['geral'] = encoder.inverse_transform(df_predicoes['geral'])\n",
    "        df_predicoes['predicts'] = df_predicoes.apply(lambda x: self.check_line(x),axis=1)\n",
    "        return np.array(df_predicoes['predicts'])\n",
    "#################################################################\n",
    "\n",
    "#################################################################\n",
    "#Preping data with external file   \n",
    "#################################################################\n",
    "exec(open('../scripts/dataprep_teste.py').read())"
   ]
  },
  {
   "cell_type": "code",
   "execution_count": 37,
   "metadata": {},
   "outputs": [],
   "source": [
    "#################################################################\n",
    "#Predicting all files\n",
    "#################################################################\n",
    "df_teste = pd.read_csv('../data/data_teste.csv')\n",
    "df_raw = df_teste.copy()\n",
    "#Dropping filename for predicitons\n",
    "df_teste = df_teste.drop('filename',axis=1)\n",
    "#Scailing\n",
    "df_teste = scaler.transform(df_teste)\n",
    "#Predicting\n",
    "targets = ['geral', 'a', 'b', 'c', 'd', 'h', 'm', 'n', 'x', '6', '7']\n",
    "vt = Voter(models,targets,encoder)\n",
    "predictions = vt.predict(df_teste)\n",
    "\n",
    "#predictions = svmrbf.predict(df_teste)\n",
    "#predictions = encoder.inverse_transform(predictions)\n",
    "#print(df_raw['filename'])\n",
    "\n",
    "#################################################################\n",
    "#Assembling\n",
    "#################################################################"
   ]
  },
  {
   "cell_type": "code",
   "execution_count": 40,
   "metadata": {},
   "outputs": [
    {
     "name": "stdout",
     "output_type": "stream",
     "text": [
      "    filename predictions\n",
      "0       66a6        66a6\n",
      "1       66ax        66ax\n",
      "2       66hh        66hh\n",
      "3       66hn        66hn\n",
      "4       6767        6767\n",
      "..       ...         ...\n",
      "262     xhcc        xhc6\n",
      "263     xmbc        xnbc\n",
      "264     xmm7        xnn7\n",
      "265     xnc7        xmc7\n",
      "266     xxxh        xxxh\n",
      "\n",
      "[267 rows x 2 columns]\n",
      "Resultados salvos no arquivo \"resultado_predicoes.csv\"\n"
     ]
    }
   ],
   "source": [
    "df_respostas = pd.DataFrame(columns=['filename_extended'])\n",
    "df_respostas['filename_extended'] = df_raw['filename']\n",
    "df_respostas['predictions'] = predictions\n",
    "\n",
    "\n",
    "df_respostas['filename'] = df_respostas['filename_extended'].apply(lambda x: x.split('_')[0])\n",
    "df_respostas['file_pos'] = df_respostas['filename_extended'].apply(lambda x: x.split('_')[2])\n",
    "df_respostas['file_pos'] = df_respostas['file_pos'].str.replace('.wav','')\n",
    "\n",
    "df_final = pd.DataFrame(\n",
    "    df_respostas[['filename','predictions']].groupby('filename').predictions.apply(lambda x: x.sum())\n",
    ").reset_index()\n",
    "\n",
    "print(df_final)\n",
    "df_final.to_csv('../data/resultado_predicoes.csv',index=False)\n",
    "print('Resultados salvos no arquivo \"resultado_predicoes.csv\"')"
   ]
  },
  {
   "cell_type": "code",
   "execution_count": 109,
   "metadata": {},
   "outputs": [],
   "source": [
    "df_valid = pd.read_csv('../data/data_validacao.csv')\n",
    "\n",
    "df_valid.drop('filename',axis=1,inplace=True)\n",
    "\n",
    "X_valid = scaler.transform(df_valid.iloc[:,:-1])\n",
    "\n",
    "results = pd.DataFrame()\n",
    "predictions = vt.predict(X_valid)\n",
    "results['real'] = df_valid['label'].copy()\n",
    "results['predict'] = predictions\n",
    "results['result'] = (predictions==df_valid['label'])\n",
    "mistakes=results.loc[results['result']==False]\n",
    "\n",
    "mistakes['par']=mistakes['predict']+mistakes['real']\n",
    "mistakes['par']=mistakes['par'].apply(lambda x: ''.join(sorted(x)))\n",
    "\n",
    "import matplotlib.pyplot as plt\n",
    "%matplotlib inline\n",
    "\n",
    "plt.figure(figsize=(15,7))\n",
    "plt.plot(mistakes['par'].value_counts().cumsum()/mistakes['par'].value_counts().sum())"
   ]
  },
  {
   "cell_type": "code",
   "execution_count": 74,
   "metadata": {},
   "outputs": [],
   "source": [
    "df_treino = pd.read_csv('../data/data.csv')\n",
    "df_treino.drop('filename',axis=1,inplace=True)"
   ]
  },
  {
   "cell_type": "code",
   "execution_count": 75,
   "metadata": {},
   "outputs": [],
   "source": [
    "X_treino = scaler.transform(df_treino.iloc[:,:-1])"
   ]
  },
  {
   "cell_type": "code",
   "execution_count": 78,
   "metadata": {},
   "outputs": [],
   "source": [
    "df_treino2 = pd.DataFrame(X_treino.copy())\n",
    "df_treino2['label']=df_treino['label'].copy()"
   ]
  },
  {
   "cell_type": "code",
   "execution_count": 94,
   "metadata": {},
   "outputs": [],
   "source": [
    "#bd\n",
    "from sklearn.ensemble import RandomForestClassifier\n",
    "SVCClassifier = RandomForestClassifier()"
   ]
  },
  {
   "cell_type": "code",
   "execution_count": 95,
   "metadata": {},
   "outputs": [],
   "source": [
    "X_treino2 = df_treino2.loc[(df_treino2['label']=='b') | (df_treino2['label']=='d')].iloc[:,:-1]\n",
    "y_treino2 = df_treino2.loc[(df_treino2['label']=='b') | (df_treino2['label']=='d')].iloc[:,-1]\n",
    "y_treino2=y_treino2.apply(lambda x: 1 if x=='b' else 0)"
   ]
  },
  {
   "cell_type": "code",
   "execution_count": 103,
   "metadata": {},
   "outputs": [
    {
     "name": "stdout",
     "output_type": "stream",
     "text": [
      "Tuning RBF Kernel parameters\n",
      "Search grid for RBF returned parameters:\n",
      "{'C': 38.0, 'gamma': 0.001}\n",
      "Params:\n",
      "{'C': 38.0, 'cache_size': 200, 'class_weight': None, 'coef0': 0.0, 'decision_function_shape': 'ovr', 'degree': 3, 'gamma': 0.001, 'kernel': 'rbf', 'max_iter': -1, 'probability': False, 'random_state': None, 'shrinking': True, 'tol': 0.001, 'verbose': False}\n",
      "Accuracy score of RBF Kernel: 0.5416666666666666\n"
     ]
    },
    {
     "data": {
      "text/plain": [
       "['../models/svcrbf.pkl']"
      ]
     },
     "execution_count": 103,
     "metadata": {},
     "output_type": "execute_result"
    }
   ],
   "source": [
    "#Param grid\n",
    "Cs = np.arange(0.5,100,0.5)\n",
    "gammas = [0.001, 0.01, 0.1, 1]\n",
    "\n",
    "param_grid = {'C':Cs,'gamma':gammas}\n",
    "#################################################################\n",
    "#Grid Search\n",
    "print('Tuning RBF Kernel parameters')\n",
    "grid_search = GridSearchCV(svm.SVC(kernel='rbf'),param_grid)\n",
    "grid_search.fit(X_treino2,y_treino2)\n",
    "print('Search grid for RBF returned parameters:')\n",
    "print(grid_search.best_params_)\n",
    "#Get model  \n",
    "SVCrbf = grid_search.best_estimator_\n",
    "print('Params:')\n",
    "print(SVCrbf.get_params())\n",
    "#SVCrbf.fit(X_train,y_train)\n",
    "print('Accuracy score of RBF Kernel:',SVCrbf.score(X_valid2,y_valid))\n",
    "joblib.dump(SVCrbf, '../models/svcrbf.pkl') "
   ]
  },
  {
   "cell_type": "code",
   "execution_count": 97,
   "metadata": {},
   "outputs": [],
   "source": [
    "X_valid2 = df_valid.loc[(df_valid['label']=='b') | (df_valid['label']=='d')].iloc[:,:-1]\n",
    "y_valid = df_valid.loc[(df_valid['label']=='b') | (df_valid['label']=='d')].iloc[:,-1]\n",
    "X_valid2 = scaler.transform(X_valid2)\n",
    "y_valid = y_valid.apply(lambda x: 1 if x=='b' else 0)"
   ]
  },
  {
   "cell_type": "code",
   "execution_count": null,
   "metadata": {},
   "outputs": [],
   "source": []
  }
 ],
 "metadata": {
  "kernelspec": {
   "display_name": "Python 3",
   "language": "python",
   "name": "python3"
  },
  "language_info": {
   "codemirror_mode": {
    "name": "ipython",
    "version": 3
   },
   "file_extension": ".py",
   "mimetype": "text/x-python",
   "name": "python",
   "nbconvert_exporter": "python",
   "pygments_lexer": "ipython3",
   "version": "3.7.4"
  }
 },
 "nbformat": 4,
 "nbformat_minor": 2
}
